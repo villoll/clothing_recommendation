{
  "metadata": {
    "kernelspec": {
      "language": "python",
      "display_name": "Python 3",
      "name": "python3"
    },
    "language_info": {
      "name": "python",
      "version": "3.7.12",
      "mimetype": "text/x-python",
      "codemirror_mode": {
        "name": "ipython",
        "version": 3
      },
      "pygments_lexer": "ipython3",
      "nbconvert_exporter": "python",
      "file_extension": ".py"
    },
    "colab": {
      "provenance": [],
      "collapsed_sections": [],
      "include_colab_link": true
    }
  },
  "nbformat_minor": 0,
  "nbformat": 4,
  "cells": [
    {
      "cell_type": "markdown",
      "metadata": {
        "id": "view-in-github",
        "colab_type": "text"
      },
      "source": [
        "<a href=\"https://colab.research.google.com/github/villoll/clothing_recommendation/blob/main/clothing_recommendation.ipynb\" target=\"_parent\"><img src=\"https://colab.research.google.com/assets/colab-badge.svg\" alt=\"Open In Colab\"/></a>"
      ]
    },
    {
      "cell_type": "markdown",
      "source": [
        "# Немного теории"
      ],
      "metadata": {
        "id": "o9ksa0cnszDu"
      }
    },
    {
      "cell_type": "markdown",
      "source": [
        "**Правила:**\n",
        "* добавление в корзину => высшая оценка; Например, 100\n",
        "* добавление в избранное => хорошая оценка; Например, 50\n",
        "* просмотров страницы товара целиком => хорошо; Например, 15\n",
        "\n",
        "Нормировать между 1 - 10"
      ],
      "metadata": {
        "id": "k-GcO7ceszDz"
      }
    },
    {
      "cell_type": "markdown",
      "source": [
        "# Импортирование необходимых библиотек"
      ],
      "metadata": {
        "id": "1OMnE7umszD0"
      }
    },
    {
      "cell_type": "code",
      "source": [
        "import pandas as pd\n",
        "import numpy as np\n",
        "\n",
        "from sklearn.neighbors import NearestNeighbors\n",
        "from scipy.sparse import csr_matrix\n",
        "from PIL import Image\n",
        "import matplotlib.pyplot as plt"
      ],
      "metadata": {
        "execution": {
          "iopub.status.busy": "2022-09-07T11:22:00.120485Z",
          "iopub.execute_input": "2022-09-07T11:22:00.120966Z",
          "iopub.status.idle": "2022-09-07T11:22:00.674294Z",
          "shell.execute_reply.started": "2022-09-07T11:22:00.120873Z",
          "shell.execute_reply": "2022-09-07T11:22:00.673016Z"
        },
        "trusted": true,
        "id": "9WsxXobeszD1"
      },
      "execution_count": 1,
      "outputs": []
    },
    {
      "cell_type": "markdown",
      "source": [
        "\n",
        "# Создание датасетов"
      ],
      "metadata": {
        "id": "RvsNF0zsszD2"
      }
    },
    {
      "cell_type": "markdown",
      "source": [
        "**Журнал действий пользователя**"
      ],
      "metadata": {
        "id": "g4LjWi4pszD2"
      }
    },
    {
      "cell_type": "code",
      "source": [
        "user_log = {'user_id' : [1, 1, 1, 2, 2, 2, 3, 3, 3, 1], 'item_id': [1, 2, 3, 1, 2, 3, 1, 2, 3, 4], 'add_cart' : [1, 0, 1, 0, 1, 0, 1, 0, 0, 1], 'add_fav' : [0, 0, 1, 0, 0, 1, 0, 1, 1, 0], 'page_view' : [1, 2, 3, 2, 3, 1, 4, 2, 6, 1]}\n",
        "user_log"
      ],
      "metadata": {
        "execution": {
          "iopub.status.busy": "2022-09-07T11:22:00.676908Z",
          "iopub.execute_input": "2022-09-07T11:22:00.677398Z",
          "iopub.status.idle": "2022-09-07T11:22:00.691563Z",
          "shell.execute_reply.started": "2022-09-07T11:22:00.677353Z",
          "shell.execute_reply": "2022-09-07T11:22:00.690389Z"
        },
        "trusted": true,
        "colab": {
          "base_uri": "https://localhost:8080/"
        },
        "id": "AYklatmGszD3",
        "outputId": "14e44eb9-245c-489e-ffd7-30c07551881b"
      },
      "execution_count": 2,
      "outputs": [
        {
          "output_type": "execute_result",
          "data": {
            "text/plain": [
              "{'user_id': [1, 1, 1, 2, 2, 2, 3, 3, 3, 1],\n",
              " 'item_id': [1, 2, 3, 1, 2, 3, 1, 2, 3, 4],\n",
              " 'add_cart': [1, 0, 1, 0, 1, 0, 1, 0, 0, 1],\n",
              " 'add_fav': [0, 0, 1, 0, 0, 1, 0, 1, 1, 0],\n",
              " 'page_view': [1, 2, 3, 2, 3, 1, 4, 2, 6, 1]}"
            ]
          },
          "metadata": {},
          "execution_count": 2
        }
      ]
    },
    {
      "cell_type": "code",
      "source": [
        "user_log_df = pd.DataFrame.from_dict(user_log)\n",
        "user_log_df        "
      ],
      "metadata": {
        "execution": {
          "iopub.status.busy": "2022-09-07T11:22:00.693007Z",
          "iopub.execute_input": "2022-09-07T11:22:00.693609Z",
          "iopub.status.idle": "2022-09-07T11:22:00.709824Z",
          "shell.execute_reply.started": "2022-09-07T11:22:00.693575Z",
          "shell.execute_reply": "2022-09-07T11:22:00.708829Z"
        },
        "trusted": true,
        "colab": {
          "base_uri": "https://localhost:8080/",
          "height": 363
        },
        "id": "L8FQ6rXMszD4",
        "outputId": "fa53ef93-2d46-479b-f524-d42d8230aebd"
      },
      "execution_count": 3,
      "outputs": [
        {
          "output_type": "execute_result",
          "data": {
            "text/plain": [
              "   user_id  item_id  add_cart  add_fav  page_view\n",
              "0        1        1         1        0          1\n",
              "1        1        2         0        0          2\n",
              "2        1        3         1        1          3\n",
              "3        2        1         0        0          2\n",
              "4        2        2         1        0          3\n",
              "5        2        3         0        1          1\n",
              "6        3        1         1        0          4\n",
              "7        3        2         0        1          2\n",
              "8        3        3         0        1          6\n",
              "9        1        4         1        0          1"
            ],
            "text/html": [
              "\n",
              "  <div id=\"df-b581b5b8-d27a-4b0a-ab23-732f17c2eec4\">\n",
              "    <div class=\"colab-df-container\">\n",
              "      <div>\n",
              "<style scoped>\n",
              "    .dataframe tbody tr th:only-of-type {\n",
              "        vertical-align: middle;\n",
              "    }\n",
              "\n",
              "    .dataframe tbody tr th {\n",
              "        vertical-align: top;\n",
              "    }\n",
              "\n",
              "    .dataframe thead th {\n",
              "        text-align: right;\n",
              "    }\n",
              "</style>\n",
              "<table border=\"1\" class=\"dataframe\">\n",
              "  <thead>\n",
              "    <tr style=\"text-align: right;\">\n",
              "      <th></th>\n",
              "      <th>user_id</th>\n",
              "      <th>item_id</th>\n",
              "      <th>add_cart</th>\n",
              "      <th>add_fav</th>\n",
              "      <th>page_view</th>\n",
              "    </tr>\n",
              "  </thead>\n",
              "  <tbody>\n",
              "    <tr>\n",
              "      <th>0</th>\n",
              "      <td>1</td>\n",
              "      <td>1</td>\n",
              "      <td>1</td>\n",
              "      <td>0</td>\n",
              "      <td>1</td>\n",
              "    </tr>\n",
              "    <tr>\n",
              "      <th>1</th>\n",
              "      <td>1</td>\n",
              "      <td>2</td>\n",
              "      <td>0</td>\n",
              "      <td>0</td>\n",
              "      <td>2</td>\n",
              "    </tr>\n",
              "    <tr>\n",
              "      <th>2</th>\n",
              "      <td>1</td>\n",
              "      <td>3</td>\n",
              "      <td>1</td>\n",
              "      <td>1</td>\n",
              "      <td>3</td>\n",
              "    </tr>\n",
              "    <tr>\n",
              "      <th>3</th>\n",
              "      <td>2</td>\n",
              "      <td>1</td>\n",
              "      <td>0</td>\n",
              "      <td>0</td>\n",
              "      <td>2</td>\n",
              "    </tr>\n",
              "    <tr>\n",
              "      <th>4</th>\n",
              "      <td>2</td>\n",
              "      <td>2</td>\n",
              "      <td>1</td>\n",
              "      <td>0</td>\n",
              "      <td>3</td>\n",
              "    </tr>\n",
              "    <tr>\n",
              "      <th>5</th>\n",
              "      <td>2</td>\n",
              "      <td>3</td>\n",
              "      <td>0</td>\n",
              "      <td>1</td>\n",
              "      <td>1</td>\n",
              "    </tr>\n",
              "    <tr>\n",
              "      <th>6</th>\n",
              "      <td>3</td>\n",
              "      <td>1</td>\n",
              "      <td>1</td>\n",
              "      <td>0</td>\n",
              "      <td>4</td>\n",
              "    </tr>\n",
              "    <tr>\n",
              "      <th>7</th>\n",
              "      <td>3</td>\n",
              "      <td>2</td>\n",
              "      <td>0</td>\n",
              "      <td>1</td>\n",
              "      <td>2</td>\n",
              "    </tr>\n",
              "    <tr>\n",
              "      <th>8</th>\n",
              "      <td>3</td>\n",
              "      <td>3</td>\n",
              "      <td>0</td>\n",
              "      <td>1</td>\n",
              "      <td>6</td>\n",
              "    </tr>\n",
              "    <tr>\n",
              "      <th>9</th>\n",
              "      <td>1</td>\n",
              "      <td>4</td>\n",
              "      <td>1</td>\n",
              "      <td>0</td>\n",
              "      <td>1</td>\n",
              "    </tr>\n",
              "  </tbody>\n",
              "</table>\n",
              "</div>\n",
              "      <button class=\"colab-df-convert\" onclick=\"convertToInteractive('df-b581b5b8-d27a-4b0a-ab23-732f17c2eec4')\"\n",
              "              title=\"Convert this dataframe to an interactive table.\"\n",
              "              style=\"display:none;\">\n",
              "        \n",
              "  <svg xmlns=\"http://www.w3.org/2000/svg\" height=\"24px\"viewBox=\"0 0 24 24\"\n",
              "       width=\"24px\">\n",
              "    <path d=\"M0 0h24v24H0V0z\" fill=\"none\"/>\n",
              "    <path d=\"M18.56 5.44l.94 2.06.94-2.06 2.06-.94-2.06-.94-.94-2.06-.94 2.06-2.06.94zm-11 1L8.5 8.5l.94-2.06 2.06-.94-2.06-.94L8.5 2.5l-.94 2.06-2.06.94zm10 10l.94 2.06.94-2.06 2.06-.94-2.06-.94-.94-2.06-.94 2.06-2.06.94z\"/><path d=\"M17.41 7.96l-1.37-1.37c-.4-.4-.92-.59-1.43-.59-.52 0-1.04.2-1.43.59L10.3 9.45l-7.72 7.72c-.78.78-.78 2.05 0 2.83L4 21.41c.39.39.9.59 1.41.59.51 0 1.02-.2 1.41-.59l7.78-7.78 2.81-2.81c.8-.78.8-2.07 0-2.86zM5.41 20L4 18.59l7.72-7.72 1.47 1.35L5.41 20z\"/>\n",
              "  </svg>\n",
              "      </button>\n",
              "      \n",
              "  <style>\n",
              "    .colab-df-container {\n",
              "      display:flex;\n",
              "      flex-wrap:wrap;\n",
              "      gap: 12px;\n",
              "    }\n",
              "\n",
              "    .colab-df-convert {\n",
              "      background-color: #E8F0FE;\n",
              "      border: none;\n",
              "      border-radius: 50%;\n",
              "      cursor: pointer;\n",
              "      display: none;\n",
              "      fill: #1967D2;\n",
              "      height: 32px;\n",
              "      padding: 0 0 0 0;\n",
              "      width: 32px;\n",
              "    }\n",
              "\n",
              "    .colab-df-convert:hover {\n",
              "      background-color: #E2EBFA;\n",
              "      box-shadow: 0px 1px 2px rgba(60, 64, 67, 0.3), 0px 1px 3px 1px rgba(60, 64, 67, 0.15);\n",
              "      fill: #174EA6;\n",
              "    }\n",
              "\n",
              "    [theme=dark] .colab-df-convert {\n",
              "      background-color: #3B4455;\n",
              "      fill: #D2E3FC;\n",
              "    }\n",
              "\n",
              "    [theme=dark] .colab-df-convert:hover {\n",
              "      background-color: #434B5C;\n",
              "      box-shadow: 0px 1px 3px 1px rgba(0, 0, 0, 0.15);\n",
              "      filter: drop-shadow(0px 1px 2px rgba(0, 0, 0, 0.3));\n",
              "      fill: #FFFFFF;\n",
              "    }\n",
              "  </style>\n",
              "\n",
              "      <script>\n",
              "        const buttonEl =\n",
              "          document.querySelector('#df-b581b5b8-d27a-4b0a-ab23-732f17c2eec4 button.colab-df-convert');\n",
              "        buttonEl.style.display =\n",
              "          google.colab.kernel.accessAllowed ? 'block' : 'none';\n",
              "\n",
              "        async function convertToInteractive(key) {\n",
              "          const element = document.querySelector('#df-b581b5b8-d27a-4b0a-ab23-732f17c2eec4');\n",
              "          const dataTable =\n",
              "            await google.colab.kernel.invokeFunction('convertToInteractive',\n",
              "                                                     [key], {});\n",
              "          if (!dataTable) return;\n",
              "\n",
              "          const docLinkHtml = 'Like what you see? Visit the ' +\n",
              "            '<a target=\"_blank\" href=https://colab.research.google.com/notebooks/data_table.ipynb>data table notebook</a>'\n",
              "            + ' to learn more about interactive tables.';\n",
              "          element.innerHTML = '';\n",
              "          dataTable['output_type'] = 'display_data';\n",
              "          await google.colab.output.renderOutput(dataTable, element);\n",
              "          const docLink = document.createElement('div');\n",
              "          docLink.innerHTML = docLinkHtml;\n",
              "          element.appendChild(docLink);\n",
              "        }\n",
              "      </script>\n",
              "    </div>\n",
              "  </div>\n",
              "  "
            ]
          },
          "metadata": {},
          "execution_count": 3
        }
      ]
    },
    {
      "cell_type": "markdown",
      "source": [
        "**Данные о товарах**"
      ],
      "metadata": {
        "id": "iX7Joj_nszD5"
      }
    },
    {
      "cell_type": "code",
      "source": [
        "item_data = {'item_id': [1, 2, 3, 4], 'article': ['1', '2', '3', '4'], 'category':['dresses and sundresses', 'outwears', 't-shirts and polo', ''], 'subcategory': ['evening dresses','coats', 't-shirts', ''], 'brand' : ['lichi', 'zarina', 'befree', 'zarina'], 'color': ['blue', 'black', 'yellow', 'blue'], 'material' : ['polyester','polyester','cotton', ''], 'season' : ['multi','demi','multi', ''], 'price' : ['3500', '8000', '1500', ''], 'image' : ['/content/items_photo/1.webp', '/content/items_photo/2.webp', '/content/items_photo/3.webp', '/content/items_photo/4.webp']}\n",
        "item_data"
      ],
      "metadata": {
        "execution": {
          "iopub.status.busy": "2022-09-07T11:22:00.713648Z",
          "iopub.execute_input": "2022-09-07T11:22:00.714482Z",
          "iopub.status.idle": "2022-09-07T11:22:00.725995Z",
          "shell.execute_reply.started": "2022-09-07T11:22:00.714424Z",
          "shell.execute_reply": "2022-09-07T11:22:00.724824Z"
        },
        "trusted": true,
        "colab": {
          "base_uri": "https://localhost:8080/"
        },
        "id": "UvdeHbrBszD5",
        "outputId": "3cd07814-6e7a-4d62-8453-cc20f567a390"
      },
      "execution_count": 4,
      "outputs": [
        {
          "output_type": "execute_result",
          "data": {
            "text/plain": [
              "{'item_id': [1, 2, 3, 4],\n",
              " 'article': ['1', '2', '3', '4'],\n",
              " 'category': ['dresses and sundresses', 'outwears', 't-shirts and polo', ''],\n",
              " 'subcategory': ['evening dresses', 'coats', 't-shirts', ''],\n",
              " 'brand': ['lichi', 'zarina', 'befree', 'zarina'],\n",
              " 'color': ['blue', 'black', 'yellow', 'blue'],\n",
              " 'material': ['polyester', 'polyester', 'cotton', ''],\n",
              " 'season': ['multi', 'demi', 'multi', ''],\n",
              " 'price': ['3500', '8000', '1500', ''],\n",
              " 'image': ['/content/items_photo/1.webp',\n",
              "  '/content/items_photo/2.webp',\n",
              "  '/content/items_photo/3.webp',\n",
              "  '/content/items_photo/4.webp']}"
            ]
          },
          "metadata": {},
          "execution_count": 4
        }
      ]
    },
    {
      "cell_type": "code",
      "source": [
        "item_df = pd.DataFrame.from_dict(item_data)\n",
        "item_df = item_df.replace('', np.nan)\n",
        "item_df"
      ],
      "metadata": {
        "execution": {
          "iopub.status.busy": "2022-09-07T11:22:00.727359Z",
          "iopub.execute_input": "2022-09-07T11:22:00.728594Z",
          "iopub.status.idle": "2022-09-07T11:22:00.752989Z",
          "shell.execute_reply.started": "2022-09-07T11:22:00.728524Z",
          "shell.execute_reply": "2022-09-07T11:22:00.751865Z"
        },
        "trusted": true,
        "colab": {
          "base_uri": "https://localhost:8080/",
          "height": 175
        },
        "id": "dDXZ5A8CszD6",
        "outputId": "cade1848-90cb-48be-e7cc-64b0656ba23b"
      },
      "execution_count": 5,
      "outputs": [
        {
          "output_type": "execute_result",
          "data": {
            "text/plain": [
              "   item_id article                category      subcategory   brand   color  \\\n",
              "0        1       1  dresses and sundresses  evening dresses   lichi    blue   \n",
              "1        2       2                outwears            coats  zarina   black   \n",
              "2        3       3       t-shirts and polo         t-shirts  befree  yellow   \n",
              "3        4       4                     NaN              NaN  zarina    blue   \n",
              "\n",
              "    material season price                        image  \n",
              "0  polyester  multi  3500  /content/items_photo/1.webp  \n",
              "1  polyester   demi  8000  /content/items_photo/2.webp  \n",
              "2     cotton  multi  1500  /content/items_photo/3.webp  \n",
              "3        NaN    NaN   NaN  /content/items_photo/4.webp  "
            ],
            "text/html": [
              "\n",
              "  <div id=\"df-1553f512-c714-4ce2-94df-04129fb075e2\">\n",
              "    <div class=\"colab-df-container\">\n",
              "      <div>\n",
              "<style scoped>\n",
              "    .dataframe tbody tr th:only-of-type {\n",
              "        vertical-align: middle;\n",
              "    }\n",
              "\n",
              "    .dataframe tbody tr th {\n",
              "        vertical-align: top;\n",
              "    }\n",
              "\n",
              "    .dataframe thead th {\n",
              "        text-align: right;\n",
              "    }\n",
              "</style>\n",
              "<table border=\"1\" class=\"dataframe\">\n",
              "  <thead>\n",
              "    <tr style=\"text-align: right;\">\n",
              "      <th></th>\n",
              "      <th>item_id</th>\n",
              "      <th>article</th>\n",
              "      <th>category</th>\n",
              "      <th>subcategory</th>\n",
              "      <th>brand</th>\n",
              "      <th>color</th>\n",
              "      <th>material</th>\n",
              "      <th>season</th>\n",
              "      <th>price</th>\n",
              "      <th>image</th>\n",
              "    </tr>\n",
              "  </thead>\n",
              "  <tbody>\n",
              "    <tr>\n",
              "      <th>0</th>\n",
              "      <td>1</td>\n",
              "      <td>1</td>\n",
              "      <td>dresses and sundresses</td>\n",
              "      <td>evening dresses</td>\n",
              "      <td>lichi</td>\n",
              "      <td>blue</td>\n",
              "      <td>polyester</td>\n",
              "      <td>multi</td>\n",
              "      <td>3500</td>\n",
              "      <td>/content/items_photo/1.webp</td>\n",
              "    </tr>\n",
              "    <tr>\n",
              "      <th>1</th>\n",
              "      <td>2</td>\n",
              "      <td>2</td>\n",
              "      <td>outwears</td>\n",
              "      <td>coats</td>\n",
              "      <td>zarina</td>\n",
              "      <td>black</td>\n",
              "      <td>polyester</td>\n",
              "      <td>demi</td>\n",
              "      <td>8000</td>\n",
              "      <td>/content/items_photo/2.webp</td>\n",
              "    </tr>\n",
              "    <tr>\n",
              "      <th>2</th>\n",
              "      <td>3</td>\n",
              "      <td>3</td>\n",
              "      <td>t-shirts and polo</td>\n",
              "      <td>t-shirts</td>\n",
              "      <td>befree</td>\n",
              "      <td>yellow</td>\n",
              "      <td>cotton</td>\n",
              "      <td>multi</td>\n",
              "      <td>1500</td>\n",
              "      <td>/content/items_photo/3.webp</td>\n",
              "    </tr>\n",
              "    <tr>\n",
              "      <th>3</th>\n",
              "      <td>4</td>\n",
              "      <td>4</td>\n",
              "      <td>NaN</td>\n",
              "      <td>NaN</td>\n",
              "      <td>zarina</td>\n",
              "      <td>blue</td>\n",
              "      <td>NaN</td>\n",
              "      <td>NaN</td>\n",
              "      <td>NaN</td>\n",
              "      <td>/content/items_photo/4.webp</td>\n",
              "    </tr>\n",
              "  </tbody>\n",
              "</table>\n",
              "</div>\n",
              "      <button class=\"colab-df-convert\" onclick=\"convertToInteractive('df-1553f512-c714-4ce2-94df-04129fb075e2')\"\n",
              "              title=\"Convert this dataframe to an interactive table.\"\n",
              "              style=\"display:none;\">\n",
              "        \n",
              "  <svg xmlns=\"http://www.w3.org/2000/svg\" height=\"24px\"viewBox=\"0 0 24 24\"\n",
              "       width=\"24px\">\n",
              "    <path d=\"M0 0h24v24H0V0z\" fill=\"none\"/>\n",
              "    <path d=\"M18.56 5.44l.94 2.06.94-2.06 2.06-.94-2.06-.94-.94-2.06-.94 2.06-2.06.94zm-11 1L8.5 8.5l.94-2.06 2.06-.94-2.06-.94L8.5 2.5l-.94 2.06-2.06.94zm10 10l.94 2.06.94-2.06 2.06-.94-2.06-.94-.94-2.06-.94 2.06-2.06.94z\"/><path d=\"M17.41 7.96l-1.37-1.37c-.4-.4-.92-.59-1.43-.59-.52 0-1.04.2-1.43.59L10.3 9.45l-7.72 7.72c-.78.78-.78 2.05 0 2.83L4 21.41c.39.39.9.59 1.41.59.51 0 1.02-.2 1.41-.59l7.78-7.78 2.81-2.81c.8-.78.8-2.07 0-2.86zM5.41 20L4 18.59l7.72-7.72 1.47 1.35L5.41 20z\"/>\n",
              "  </svg>\n",
              "      </button>\n",
              "      \n",
              "  <style>\n",
              "    .colab-df-container {\n",
              "      display:flex;\n",
              "      flex-wrap:wrap;\n",
              "      gap: 12px;\n",
              "    }\n",
              "\n",
              "    .colab-df-convert {\n",
              "      background-color: #E8F0FE;\n",
              "      border: none;\n",
              "      border-radius: 50%;\n",
              "      cursor: pointer;\n",
              "      display: none;\n",
              "      fill: #1967D2;\n",
              "      height: 32px;\n",
              "      padding: 0 0 0 0;\n",
              "      width: 32px;\n",
              "    }\n",
              "\n",
              "    .colab-df-convert:hover {\n",
              "      background-color: #E2EBFA;\n",
              "      box-shadow: 0px 1px 2px rgba(60, 64, 67, 0.3), 0px 1px 3px 1px rgba(60, 64, 67, 0.15);\n",
              "      fill: #174EA6;\n",
              "    }\n",
              "\n",
              "    [theme=dark] .colab-df-convert {\n",
              "      background-color: #3B4455;\n",
              "      fill: #D2E3FC;\n",
              "    }\n",
              "\n",
              "    [theme=dark] .colab-df-convert:hover {\n",
              "      background-color: #434B5C;\n",
              "      box-shadow: 0px 1px 3px 1px rgba(0, 0, 0, 0.15);\n",
              "      filter: drop-shadow(0px 1px 2px rgba(0, 0, 0, 0.3));\n",
              "      fill: #FFFFFF;\n",
              "    }\n",
              "  </style>\n",
              "\n",
              "      <script>\n",
              "        const buttonEl =\n",
              "          document.querySelector('#df-1553f512-c714-4ce2-94df-04129fb075e2 button.colab-df-convert');\n",
              "        buttonEl.style.display =\n",
              "          google.colab.kernel.accessAllowed ? 'block' : 'none';\n",
              "\n",
              "        async function convertToInteractive(key) {\n",
              "          const element = document.querySelector('#df-1553f512-c714-4ce2-94df-04129fb075e2');\n",
              "          const dataTable =\n",
              "            await google.colab.kernel.invokeFunction('convertToInteractive',\n",
              "                                                     [key], {});\n",
              "          if (!dataTable) return;\n",
              "\n",
              "          const docLinkHtml = 'Like what you see? Visit the ' +\n",
              "            '<a target=\"_blank\" href=https://colab.research.google.com/notebooks/data_table.ipynb>data table notebook</a>'\n",
              "            + ' to learn more about interactive tables.';\n",
              "          element.innerHTML = '';\n",
              "          dataTable['output_type'] = 'display_data';\n",
              "          await google.colab.output.renderOutput(dataTable, element);\n",
              "          const docLink = document.createElement('div');\n",
              "          docLink.innerHTML = docLinkHtml;\n",
              "          element.appendChild(docLink);\n",
              "        }\n",
              "      </script>\n",
              "    </div>\n",
              "  </div>\n",
              "  "
            ]
          },
          "metadata": {},
          "execution_count": 5
        }
      ]
    },
    {
      "cell_type": "markdown",
      "source": [
        "# Подсчет рейтинга для коллаборативной системы"
      ],
      "metadata": {
        "id": "QgokqhBzszD6"
      }
    },
    {
      "cell_type": "code",
      "source": [
        "#Веса событий\n",
        "w1 = 100\n",
        "w2 = 50\n",
        "w3 = 15\n",
        "\n",
        "#Расчет неявных оценок\n",
        "def calculate_rating_for_user(userid):\n",
        "    data = userid\n",
        "    \n",
        "    ratings = dict()\n",
        "    maxrating = 0\n",
        "   \n",
        "    for i, v in data.iterrows():\n",
        "    \n",
        "        rating = w1 * v['add_cart'] + w2 * v['add_fav'] + w3 * v['page_view']\n",
        "        maxrating = max(maxrating, rating)\n",
        "        ratings[v['item_id']] = rating\n",
        "        \n",
        "    for item in ratings.keys():\n",
        "        ratings[item] = (10 * ratings[item] / maxrating).round(2)\n",
        "        \n",
        "    #return dict(sorted(ratings.items(), key=lambda item: -item[1]))\n",
        "    return ratings\n",
        "\n",
        "def save_ratings(ratings, userid, temp):\n",
        "    \n",
        "    for item_id, rating in ratings.items():\n",
        "        temp['user_id'].append(userid)\n",
        "        temp['item_id'].append(item_id)\n",
        "        temp['rating'].append(rating)\n",
        "        \n",
        "    return temp\n",
        "        \n",
        "    \n",
        "def calculate_ratings():\n",
        "    temp = {'user_id': [], 'item_id' : [], 'rating': []}\n",
        "    for user in user_log_df['user_id'].unique():\n",
        "        ratings = (calculate_rating_for_user(user_log_df[user_log_df['user_id'] == user]))\n",
        "        temp = save_ratings(ratings, user, temp)\n",
        "    \n",
        "    return temp\n",
        "\n",
        "ratings = calculate_ratings()\n",
        "ratings"
      ],
      "metadata": {
        "execution": {
          "iopub.status.busy": "2022-09-07T11:22:00.754394Z",
          "iopub.execute_input": "2022-09-07T11:22:00.755345Z",
          "iopub.status.idle": "2022-09-07T11:22:00.773016Z",
          "shell.execute_reply.started": "2022-09-07T11:22:00.755311Z",
          "shell.execute_reply": "2022-09-07T11:22:00.771789Z"
        },
        "trusted": true,
        "colab": {
          "base_uri": "https://localhost:8080/"
        },
        "id": "YjB_6KbJszD6",
        "outputId": "29bbaaaa-3111-4d2a-c97a-5b85b3e8a175"
      },
      "execution_count": 6,
      "outputs": [
        {
          "output_type": "execute_result",
          "data": {
            "text/plain": [
              "{'user_id': [1, 1, 1, 1, 2, 2, 2, 3, 3, 3],\n",
              " 'item_id': [1, 2, 3, 4, 1, 2, 3, 1, 2, 3],\n",
              " 'rating': [5.9, 1.54, 10.0, 5.9, 2.07, 10.0, 4.48, 10.0, 5.0, 8.75]}"
            ]
          },
          "metadata": {},
          "execution_count": 6
        }
      ]
    },
    {
      "cell_type": "markdown",
      "source": [
        "**Матрица предпочтений**"
      ],
      "metadata": {
        "id": "QKsCPlLsszD7"
      }
    },
    {
      "cell_type": "code",
      "source": [
        "ratings_df = pd.DataFrame.from_dict(ratings)\n",
        "user_item_matrix = ratings_df.pivot(index = 'item_id', columns = 'user_id', values= 'rating')\n",
        "user_item_matrix.head()"
      ],
      "metadata": {
        "execution": {
          "iopub.status.busy": "2022-09-07T11:22:00.774742Z",
          "iopub.execute_input": "2022-09-07T11:22:00.775292Z",
          "iopub.status.idle": "2022-09-07T11:22:00.799186Z",
          "shell.execute_reply.started": "2022-09-07T11:22:00.775208Z",
          "shell.execute_reply": "2022-09-07T11:22:00.797997Z"
        },
        "trusted": true,
        "colab": {
          "base_uri": "https://localhost:8080/",
          "height": 206
        },
        "id": "_la8Zm_yszD7",
        "outputId": "a2b538cb-8d99-448a-e982-b93dafe76f2f"
      },
      "execution_count": 7,
      "outputs": [
        {
          "output_type": "execute_result",
          "data": {
            "text/plain": [
              "user_id      1      2      3\n",
              "item_id                     \n",
              "1         5.90   2.07  10.00\n",
              "2         1.54  10.00   5.00\n",
              "3        10.00   4.48   8.75\n",
              "4         5.90    NaN    NaN"
            ],
            "text/html": [
              "\n",
              "  <div id=\"df-9551dab1-7c14-4a72-aad9-8be4e351e3f4\">\n",
              "    <div class=\"colab-df-container\">\n",
              "      <div>\n",
              "<style scoped>\n",
              "    .dataframe tbody tr th:only-of-type {\n",
              "        vertical-align: middle;\n",
              "    }\n",
              "\n",
              "    .dataframe tbody tr th {\n",
              "        vertical-align: top;\n",
              "    }\n",
              "\n",
              "    .dataframe thead th {\n",
              "        text-align: right;\n",
              "    }\n",
              "</style>\n",
              "<table border=\"1\" class=\"dataframe\">\n",
              "  <thead>\n",
              "    <tr style=\"text-align: right;\">\n",
              "      <th>user_id</th>\n",
              "      <th>1</th>\n",
              "      <th>2</th>\n",
              "      <th>3</th>\n",
              "    </tr>\n",
              "    <tr>\n",
              "      <th>item_id</th>\n",
              "      <th></th>\n",
              "      <th></th>\n",
              "      <th></th>\n",
              "    </tr>\n",
              "  </thead>\n",
              "  <tbody>\n",
              "    <tr>\n",
              "      <th>1</th>\n",
              "      <td>5.90</td>\n",
              "      <td>2.07</td>\n",
              "      <td>10.00</td>\n",
              "    </tr>\n",
              "    <tr>\n",
              "      <th>2</th>\n",
              "      <td>1.54</td>\n",
              "      <td>10.00</td>\n",
              "      <td>5.00</td>\n",
              "    </tr>\n",
              "    <tr>\n",
              "      <th>3</th>\n",
              "      <td>10.00</td>\n",
              "      <td>4.48</td>\n",
              "      <td>8.75</td>\n",
              "    </tr>\n",
              "    <tr>\n",
              "      <th>4</th>\n",
              "      <td>5.90</td>\n",
              "      <td>NaN</td>\n",
              "      <td>NaN</td>\n",
              "    </tr>\n",
              "  </tbody>\n",
              "</table>\n",
              "</div>\n",
              "      <button class=\"colab-df-convert\" onclick=\"convertToInteractive('df-9551dab1-7c14-4a72-aad9-8be4e351e3f4')\"\n",
              "              title=\"Convert this dataframe to an interactive table.\"\n",
              "              style=\"display:none;\">\n",
              "        \n",
              "  <svg xmlns=\"http://www.w3.org/2000/svg\" height=\"24px\"viewBox=\"0 0 24 24\"\n",
              "       width=\"24px\">\n",
              "    <path d=\"M0 0h24v24H0V0z\" fill=\"none\"/>\n",
              "    <path d=\"M18.56 5.44l.94 2.06.94-2.06 2.06-.94-2.06-.94-.94-2.06-.94 2.06-2.06.94zm-11 1L8.5 8.5l.94-2.06 2.06-.94-2.06-.94L8.5 2.5l-.94 2.06-2.06.94zm10 10l.94 2.06.94-2.06 2.06-.94-2.06-.94-.94-2.06-.94 2.06-2.06.94z\"/><path d=\"M17.41 7.96l-1.37-1.37c-.4-.4-.92-.59-1.43-.59-.52 0-1.04.2-1.43.59L10.3 9.45l-7.72 7.72c-.78.78-.78 2.05 0 2.83L4 21.41c.39.39.9.59 1.41.59.51 0 1.02-.2 1.41-.59l7.78-7.78 2.81-2.81c.8-.78.8-2.07 0-2.86zM5.41 20L4 18.59l7.72-7.72 1.47 1.35L5.41 20z\"/>\n",
              "  </svg>\n",
              "      </button>\n",
              "      \n",
              "  <style>\n",
              "    .colab-df-container {\n",
              "      display:flex;\n",
              "      flex-wrap:wrap;\n",
              "      gap: 12px;\n",
              "    }\n",
              "\n",
              "    .colab-df-convert {\n",
              "      background-color: #E8F0FE;\n",
              "      border: none;\n",
              "      border-radius: 50%;\n",
              "      cursor: pointer;\n",
              "      display: none;\n",
              "      fill: #1967D2;\n",
              "      height: 32px;\n",
              "      padding: 0 0 0 0;\n",
              "      width: 32px;\n",
              "    }\n",
              "\n",
              "    .colab-df-convert:hover {\n",
              "      background-color: #E2EBFA;\n",
              "      box-shadow: 0px 1px 2px rgba(60, 64, 67, 0.3), 0px 1px 3px 1px rgba(60, 64, 67, 0.15);\n",
              "      fill: #174EA6;\n",
              "    }\n",
              "\n",
              "    [theme=dark] .colab-df-convert {\n",
              "      background-color: #3B4455;\n",
              "      fill: #D2E3FC;\n",
              "    }\n",
              "\n",
              "    [theme=dark] .colab-df-convert:hover {\n",
              "      background-color: #434B5C;\n",
              "      box-shadow: 0px 1px 3px 1px rgba(0, 0, 0, 0.15);\n",
              "      filter: drop-shadow(0px 1px 2px rgba(0, 0, 0, 0.3));\n",
              "      fill: #FFFFFF;\n",
              "    }\n",
              "  </style>\n",
              "\n",
              "      <script>\n",
              "        const buttonEl =\n",
              "          document.querySelector('#df-9551dab1-7c14-4a72-aad9-8be4e351e3f4 button.colab-df-convert');\n",
              "        buttonEl.style.display =\n",
              "          google.colab.kernel.accessAllowed ? 'block' : 'none';\n",
              "\n",
              "        async function convertToInteractive(key) {\n",
              "          const element = document.querySelector('#df-9551dab1-7c14-4a72-aad9-8be4e351e3f4');\n",
              "          const dataTable =\n",
              "            await google.colab.kernel.invokeFunction('convertToInteractive',\n",
              "                                                     [key], {});\n",
              "          if (!dataTable) return;\n",
              "\n",
              "          const docLinkHtml = 'Like what you see? Visit the ' +\n",
              "            '<a target=\"_blank\" href=https://colab.research.google.com/notebooks/data_table.ipynb>data table notebook</a>'\n",
              "            + ' to learn more about interactive tables.';\n",
              "          element.innerHTML = '';\n",
              "          dataTable['output_type'] = 'display_data';\n",
              "          await google.colab.output.renderOutput(dataTable, element);\n",
              "          const docLink = document.createElement('div');\n",
              "          docLink.innerHTML = docLinkHtml;\n",
              "          element.appendChild(docLink);\n",
              "        }\n",
              "      </script>\n",
              "    </div>\n",
              "  </div>\n",
              "  "
            ]
          },
          "metadata": {},
          "execution_count": 7
        }
      ]
    },
    {
      "cell_type": "code",
      "source": [
        "user_item_matrix.fillna(0, inplace = True)\n",
        "user_item_matrix.head()"
      ],
      "metadata": {
        "execution": {
          "iopub.status.busy": "2022-09-07T11:22:00.801348Z",
          "iopub.execute_input": "2022-09-07T11:22:00.801781Z",
          "iopub.status.idle": "2022-09-07T11:22:00.816837Z",
          "shell.execute_reply.started": "2022-09-07T11:22:00.801746Z",
          "shell.execute_reply": "2022-09-07T11:22:00.815799Z"
        },
        "trusted": true,
        "colab": {
          "base_uri": "https://localhost:8080/",
          "height": 206
        },
        "id": "ufRoImJnszD8",
        "outputId": "2def7570-e288-43be-8186-635d0ac046da"
      },
      "execution_count": 8,
      "outputs": [
        {
          "output_type": "execute_result",
          "data": {
            "text/plain": [
              "user_id      1      2      3\n",
              "item_id                     \n",
              "1         5.90   2.07  10.00\n",
              "2         1.54  10.00   5.00\n",
              "3        10.00   4.48   8.75\n",
              "4         5.90   0.00   0.00"
            ],
            "text/html": [
              "\n",
              "  <div id=\"df-452ae457-ff97-4399-86ef-fcf5be29a0e4\">\n",
              "    <div class=\"colab-df-container\">\n",
              "      <div>\n",
              "<style scoped>\n",
              "    .dataframe tbody tr th:only-of-type {\n",
              "        vertical-align: middle;\n",
              "    }\n",
              "\n",
              "    .dataframe tbody tr th {\n",
              "        vertical-align: top;\n",
              "    }\n",
              "\n",
              "    .dataframe thead th {\n",
              "        text-align: right;\n",
              "    }\n",
              "</style>\n",
              "<table border=\"1\" class=\"dataframe\">\n",
              "  <thead>\n",
              "    <tr style=\"text-align: right;\">\n",
              "      <th>user_id</th>\n",
              "      <th>1</th>\n",
              "      <th>2</th>\n",
              "      <th>3</th>\n",
              "    </tr>\n",
              "    <tr>\n",
              "      <th>item_id</th>\n",
              "      <th></th>\n",
              "      <th></th>\n",
              "      <th></th>\n",
              "    </tr>\n",
              "  </thead>\n",
              "  <tbody>\n",
              "    <tr>\n",
              "      <th>1</th>\n",
              "      <td>5.90</td>\n",
              "      <td>2.07</td>\n",
              "      <td>10.00</td>\n",
              "    </tr>\n",
              "    <tr>\n",
              "      <th>2</th>\n",
              "      <td>1.54</td>\n",
              "      <td>10.00</td>\n",
              "      <td>5.00</td>\n",
              "    </tr>\n",
              "    <tr>\n",
              "      <th>3</th>\n",
              "      <td>10.00</td>\n",
              "      <td>4.48</td>\n",
              "      <td>8.75</td>\n",
              "    </tr>\n",
              "    <tr>\n",
              "      <th>4</th>\n",
              "      <td>5.90</td>\n",
              "      <td>0.00</td>\n",
              "      <td>0.00</td>\n",
              "    </tr>\n",
              "  </tbody>\n",
              "</table>\n",
              "</div>\n",
              "      <button class=\"colab-df-convert\" onclick=\"convertToInteractive('df-452ae457-ff97-4399-86ef-fcf5be29a0e4')\"\n",
              "              title=\"Convert this dataframe to an interactive table.\"\n",
              "              style=\"display:none;\">\n",
              "        \n",
              "  <svg xmlns=\"http://www.w3.org/2000/svg\" height=\"24px\"viewBox=\"0 0 24 24\"\n",
              "       width=\"24px\">\n",
              "    <path d=\"M0 0h24v24H0V0z\" fill=\"none\"/>\n",
              "    <path d=\"M18.56 5.44l.94 2.06.94-2.06 2.06-.94-2.06-.94-.94-2.06-.94 2.06-2.06.94zm-11 1L8.5 8.5l.94-2.06 2.06-.94-2.06-.94L8.5 2.5l-.94 2.06-2.06.94zm10 10l.94 2.06.94-2.06 2.06-.94-2.06-.94-.94-2.06-.94 2.06-2.06.94z\"/><path d=\"M17.41 7.96l-1.37-1.37c-.4-.4-.92-.59-1.43-.59-.52 0-1.04.2-1.43.59L10.3 9.45l-7.72 7.72c-.78.78-.78 2.05 0 2.83L4 21.41c.39.39.9.59 1.41.59.51 0 1.02-.2 1.41-.59l7.78-7.78 2.81-2.81c.8-.78.8-2.07 0-2.86zM5.41 20L4 18.59l7.72-7.72 1.47 1.35L5.41 20z\"/>\n",
              "  </svg>\n",
              "      </button>\n",
              "      \n",
              "  <style>\n",
              "    .colab-df-container {\n",
              "      display:flex;\n",
              "      flex-wrap:wrap;\n",
              "      gap: 12px;\n",
              "    }\n",
              "\n",
              "    .colab-df-convert {\n",
              "      background-color: #E8F0FE;\n",
              "      border: none;\n",
              "      border-radius: 50%;\n",
              "      cursor: pointer;\n",
              "      display: none;\n",
              "      fill: #1967D2;\n",
              "      height: 32px;\n",
              "      padding: 0 0 0 0;\n",
              "      width: 32px;\n",
              "    }\n",
              "\n",
              "    .colab-df-convert:hover {\n",
              "      background-color: #E2EBFA;\n",
              "      box-shadow: 0px 1px 2px rgba(60, 64, 67, 0.3), 0px 1px 3px 1px rgba(60, 64, 67, 0.15);\n",
              "      fill: #174EA6;\n",
              "    }\n",
              "\n",
              "    [theme=dark] .colab-df-convert {\n",
              "      background-color: #3B4455;\n",
              "      fill: #D2E3FC;\n",
              "    }\n",
              "\n",
              "    [theme=dark] .colab-df-convert:hover {\n",
              "      background-color: #434B5C;\n",
              "      box-shadow: 0px 1px 3px 1px rgba(0, 0, 0, 0.15);\n",
              "      filter: drop-shadow(0px 1px 2px rgba(0, 0, 0, 0.3));\n",
              "      fill: #FFFFFF;\n",
              "    }\n",
              "  </style>\n",
              "\n",
              "      <script>\n",
              "        const buttonEl =\n",
              "          document.querySelector('#df-452ae457-ff97-4399-86ef-fcf5be29a0e4 button.colab-df-convert');\n",
              "        buttonEl.style.display =\n",
              "          google.colab.kernel.accessAllowed ? 'block' : 'none';\n",
              "\n",
              "        async function convertToInteractive(key) {\n",
              "          const element = document.querySelector('#df-452ae457-ff97-4399-86ef-fcf5be29a0e4');\n",
              "          const dataTable =\n",
              "            await google.colab.kernel.invokeFunction('convertToInteractive',\n",
              "                                                     [key], {});\n",
              "          if (!dataTable) return;\n",
              "\n",
              "          const docLinkHtml = 'Like what you see? Visit the ' +\n",
              "            '<a target=\"_blank\" href=https://colab.research.google.com/notebooks/data_table.ipynb>data table notebook</a>'\n",
              "            + ' to learn more about interactive tables.';\n",
              "          element.innerHTML = '';\n",
              "          dataTable['output_type'] = 'display_data';\n",
              "          await google.colab.output.renderOutput(dataTable, element);\n",
              "          const docLink = document.createElement('div');\n",
              "          docLink.innerHTML = docLinkHtml;\n",
              "          element.appendChild(docLink);\n",
              "        }\n",
              "      </script>\n",
              "    </div>\n",
              "  </div>\n",
              "  "
            ]
          },
          "metadata": {},
          "execution_count": 8
        }
      ]
    },
    {
      "cell_type": "markdown",
      "source": [
        "**Обучение модели**"
      ],
      "metadata": {
        "id": "VlOLwVJ1szD8"
      }
    },
    {
      "cell_type": "code",
      "source": [
        "csr_data = csr_matrix(user_item_matrix.values)\n",
        "csr_data"
      ],
      "metadata": {
        "execution": {
          "iopub.status.busy": "2022-09-07T11:22:00.818068Z",
          "iopub.execute_input": "2022-09-07T11:22:00.818594Z",
          "iopub.status.idle": "2022-09-07T11:22:00.825344Z",
          "shell.execute_reply.started": "2022-09-07T11:22:00.818561Z",
          "shell.execute_reply": "2022-09-07T11:22:00.824338Z"
        },
        "trusted": true,
        "colab": {
          "base_uri": "https://localhost:8080/"
        },
        "id": "893V0BNsszD8",
        "outputId": "b0d1178c-fb2d-4d85-d89a-a49894cbe2a4"
      },
      "execution_count": 9,
      "outputs": [
        {
          "output_type": "execute_result",
          "data": {
            "text/plain": [
              "<4x3 sparse matrix of type '<class 'numpy.float64'>'\n",
              "\twith 10 stored elements in Compressed Sparse Row format>"
            ]
          },
          "metadata": {},
          "execution_count": 9
        }
      ]
    },
    {
      "cell_type": "code",
      "source": [
        "knn = NearestNeighbors(metric = 'cosine', algorithm = 'brute', n_neighbors = 2, n_jobs = -1)\n",
        "\n",
        "knn.fit(csr_data)"
      ],
      "metadata": {
        "execution": {
          "iopub.status.busy": "2022-09-07T11:22:00.829382Z",
          "iopub.execute_input": "2022-09-07T11:22:00.829899Z",
          "iopub.status.idle": "2022-09-07T11:22:00.837359Z",
          "shell.execute_reply.started": "2022-09-07T11:22:00.829868Z",
          "shell.execute_reply": "2022-09-07T11:22:00.836613Z"
        },
        "trusted": true,
        "colab": {
          "base_uri": "https://localhost:8080/"
        },
        "id": "9d1tmSuqszD9",
        "outputId": "e2604820-30af-4390-9c3c-4295b3b56730"
      },
      "execution_count": 10,
      "outputs": [
        {
          "output_type": "execute_result",
          "data": {
            "text/plain": [
              "NearestNeighbors(algorithm='brute', metric='cosine', n_jobs=-1, n_neighbors=2)"
            ]
          },
          "metadata": {},
          "execution_count": 10
        }
      ]
    },
    {
      "cell_type": "code",
      "source": [
        "user_item_matrix = user_item_matrix.rename_axis(None, axis = 1).reset_index()\n",
        "user_item_matrix.head()"
      ],
      "metadata": {
        "execution": {
          "iopub.status.busy": "2022-09-07T11:22:00.839365Z",
          "iopub.execute_input": "2022-09-07T11:22:00.840015Z",
          "iopub.status.idle": "2022-09-07T11:22:00.853881Z",
          "shell.execute_reply.started": "2022-09-07T11:22:00.839973Z",
          "shell.execute_reply": "2022-09-07T11:22:00.852877Z"
        },
        "trusted": true,
        "colab": {
          "base_uri": "https://localhost:8080/",
          "height": 175
        },
        "id": "e1NNay_QszD9",
        "outputId": "5a056f12-d99c-410c-aa56-e1fa2860f30b"
      },
      "execution_count": 11,
      "outputs": [
        {
          "output_type": "execute_result",
          "data": {
            "text/plain": [
              "   item_id      1      2      3\n",
              "0        1   5.90   2.07  10.00\n",
              "1        2   1.54  10.00   5.00\n",
              "2        3  10.00   4.48   8.75\n",
              "3        4   5.90   0.00   0.00"
            ],
            "text/html": [
              "\n",
              "  <div id=\"df-e9617c11-c425-4261-a751-58d705314cbf\">\n",
              "    <div class=\"colab-df-container\">\n",
              "      <div>\n",
              "<style scoped>\n",
              "    .dataframe tbody tr th:only-of-type {\n",
              "        vertical-align: middle;\n",
              "    }\n",
              "\n",
              "    .dataframe tbody tr th {\n",
              "        vertical-align: top;\n",
              "    }\n",
              "\n",
              "    .dataframe thead th {\n",
              "        text-align: right;\n",
              "    }\n",
              "</style>\n",
              "<table border=\"1\" class=\"dataframe\">\n",
              "  <thead>\n",
              "    <tr style=\"text-align: right;\">\n",
              "      <th></th>\n",
              "      <th>item_id</th>\n",
              "      <th>1</th>\n",
              "      <th>2</th>\n",
              "      <th>3</th>\n",
              "    </tr>\n",
              "  </thead>\n",
              "  <tbody>\n",
              "    <tr>\n",
              "      <th>0</th>\n",
              "      <td>1</td>\n",
              "      <td>5.90</td>\n",
              "      <td>2.07</td>\n",
              "      <td>10.00</td>\n",
              "    </tr>\n",
              "    <tr>\n",
              "      <th>1</th>\n",
              "      <td>2</td>\n",
              "      <td>1.54</td>\n",
              "      <td>10.00</td>\n",
              "      <td>5.00</td>\n",
              "    </tr>\n",
              "    <tr>\n",
              "      <th>2</th>\n",
              "      <td>3</td>\n",
              "      <td>10.00</td>\n",
              "      <td>4.48</td>\n",
              "      <td>8.75</td>\n",
              "    </tr>\n",
              "    <tr>\n",
              "      <th>3</th>\n",
              "      <td>4</td>\n",
              "      <td>5.90</td>\n",
              "      <td>0.00</td>\n",
              "      <td>0.00</td>\n",
              "    </tr>\n",
              "  </tbody>\n",
              "</table>\n",
              "</div>\n",
              "      <button class=\"colab-df-convert\" onclick=\"convertToInteractive('df-e9617c11-c425-4261-a751-58d705314cbf')\"\n",
              "              title=\"Convert this dataframe to an interactive table.\"\n",
              "              style=\"display:none;\">\n",
              "        \n",
              "  <svg xmlns=\"http://www.w3.org/2000/svg\" height=\"24px\"viewBox=\"0 0 24 24\"\n",
              "       width=\"24px\">\n",
              "    <path d=\"M0 0h24v24H0V0z\" fill=\"none\"/>\n",
              "    <path d=\"M18.56 5.44l.94 2.06.94-2.06 2.06-.94-2.06-.94-.94-2.06-.94 2.06-2.06.94zm-11 1L8.5 8.5l.94-2.06 2.06-.94-2.06-.94L8.5 2.5l-.94 2.06-2.06.94zm10 10l.94 2.06.94-2.06 2.06-.94-2.06-.94-.94-2.06-.94 2.06-2.06.94z\"/><path d=\"M17.41 7.96l-1.37-1.37c-.4-.4-.92-.59-1.43-.59-.52 0-1.04.2-1.43.59L10.3 9.45l-7.72 7.72c-.78.78-.78 2.05 0 2.83L4 21.41c.39.39.9.59 1.41.59.51 0 1.02-.2 1.41-.59l7.78-7.78 2.81-2.81c.8-.78.8-2.07 0-2.86zM5.41 20L4 18.59l7.72-7.72 1.47 1.35L5.41 20z\"/>\n",
              "  </svg>\n",
              "      </button>\n",
              "      \n",
              "  <style>\n",
              "    .colab-df-container {\n",
              "      display:flex;\n",
              "      flex-wrap:wrap;\n",
              "      gap: 12px;\n",
              "    }\n",
              "\n",
              "    .colab-df-convert {\n",
              "      background-color: #E8F0FE;\n",
              "      border: none;\n",
              "      border-radius: 50%;\n",
              "      cursor: pointer;\n",
              "      display: none;\n",
              "      fill: #1967D2;\n",
              "      height: 32px;\n",
              "      padding: 0 0 0 0;\n",
              "      width: 32px;\n",
              "    }\n",
              "\n",
              "    .colab-df-convert:hover {\n",
              "      background-color: #E2EBFA;\n",
              "      box-shadow: 0px 1px 2px rgba(60, 64, 67, 0.3), 0px 1px 3px 1px rgba(60, 64, 67, 0.15);\n",
              "      fill: #174EA6;\n",
              "    }\n",
              "\n",
              "    [theme=dark] .colab-df-convert {\n",
              "      background-color: #3B4455;\n",
              "      fill: #D2E3FC;\n",
              "    }\n",
              "\n",
              "    [theme=dark] .colab-df-convert:hover {\n",
              "      background-color: #434B5C;\n",
              "      box-shadow: 0px 1px 3px 1px rgba(0, 0, 0, 0.15);\n",
              "      filter: drop-shadow(0px 1px 2px rgba(0, 0, 0, 0.3));\n",
              "      fill: #FFFFFF;\n",
              "    }\n",
              "  </style>\n",
              "\n",
              "      <script>\n",
              "        const buttonEl =\n",
              "          document.querySelector('#df-e9617c11-c425-4261-a751-58d705314cbf button.colab-df-convert');\n",
              "        buttonEl.style.display =\n",
              "          google.colab.kernel.accessAllowed ? 'block' : 'none';\n",
              "\n",
              "        async function convertToInteractive(key) {\n",
              "          const element = document.querySelector('#df-e9617c11-c425-4261-a751-58d705314cbf');\n",
              "          const dataTable =\n",
              "            await google.colab.kernel.invokeFunction('convertToInteractive',\n",
              "                                                     [key], {});\n",
              "          if (!dataTable) return;\n",
              "\n",
              "          const docLinkHtml = 'Like what you see? Visit the ' +\n",
              "            '<a target=\"_blank\" href=https://colab.research.google.com/notebooks/data_table.ipynb>data table notebook</a>'\n",
              "            + ' to learn more about interactive tables.';\n",
              "          element.innerHTML = '';\n",
              "          dataTable['output_type'] = 'display_data';\n",
              "          await google.colab.output.renderOutput(dataTable, element);\n",
              "          const docLink = document.createElement('div');\n",
              "          docLink.innerHTML = docLinkHtml;\n",
              "          element.appendChild(docLink);\n",
              "        }\n",
              "      </script>\n",
              "    </div>\n",
              "  </div>\n",
              "  "
            ]
          },
          "metadata": {},
          "execution_count": 11
        }
      ]
    },
    {
      "cell_type": "markdown",
      "source": [
        "**Составление рекомендаций**"
      ],
      "metadata": {
        "id": "8GmMzouIszD9"
      }
    },
    {
      "cell_type": "code",
      "source": [
        "recommendations = 3 #Количество рекомендаций\n",
        "\n",
        "item_id = 2\n",
        "index_id = user_item_matrix[user_item_matrix['item_id'] == item_id].index[0]\n",
        "\n",
        "distances, indices = knn.kneighbors(csr_data[index_id], n_neighbors = recommendations + 1)"
      ],
      "metadata": {
        "execution": {
          "iopub.status.busy": "2022-09-07T11:22:00.855206Z",
          "iopub.execute_input": "2022-09-07T11:22:00.855860Z",
          "iopub.status.idle": "2022-09-07T11:22:00.968271Z",
          "shell.execute_reply.started": "2022-09-07T11:22:00.855827Z",
          "shell.execute_reply": "2022-09-07T11:22:00.967298Z"
        },
        "trusted": true,
        "id": "OlpzW8F_szD9"
      },
      "execution_count": 12,
      "outputs": []
    },
    {
      "cell_type": "code",
      "source": [
        "indices_list = indices.squeeze().tolist()\n",
        "distances_list = distances.squeeze().tolist()\n",
        "\n",
        "indices_distances = list(zip(indices_list, distances_list))\n",
        "\n",
        "indices_distances_sorted = sorted(indices_distances, key = lambda x: x[1], reverse = False)\n",
        "\n",
        "indices_distances_sorted = indices_distances_sorted[1:]\n",
        "indices_distances_sorted"
      ],
      "metadata": {
        "execution": {
          "iopub.status.busy": "2022-09-07T11:22:00.969888Z",
          "iopub.execute_input": "2022-09-07T11:22:00.970539Z",
          "iopub.status.idle": "2022-09-07T11:22:00.982229Z",
          "shell.execute_reply.started": "2022-09-07T11:22:00.970498Z",
          "shell.execute_reply": "2022-09-07T11:22:00.980778Z"
        },
        "trusted": true,
        "colab": {
          "base_uri": "https://localhost:8080/"
        },
        "id": "n2aD2AX5szD-",
        "outputId": "e1ff1533-c94a-491a-e3c2-7a4c6c7f435b"
      },
      "execution_count": 13,
      "outputs": [
        {
          "output_type": "execute_result",
          "data": {
            "text/plain": [
              "[(2, 0.34315923333610554), (0, 0.40057508937803865), (3, 0.8635465820104888)]"
            ]
          },
          "metadata": {},
          "execution_count": 13
        }
      ]
    },
    {
      "cell_type": "code",
      "source": [
        "recom_list = []\n",
        "\n",
        "for ind_dist in indices_distances_sorted:\n",
        "\n",
        "    matrix_item_id = user_item_matrix.iloc[ind_dist[0]]['item_id']\n",
        "\n",
        "    id = item_df[item_df['item_id'] == matrix_item_id].index\n",
        "\n",
        "    article = item_df.iloc[id]['article'].values[0]\n",
        "    dist = ind_dist[1]\n",
        "\n",
        "    recom_list.append({'Article' : article, 'Distance' : dist})\n",
        "    \n",
        "    \n",
        "recom_df = pd.DataFrame(recom_list, index = range(1, recommendations + 1))\n",
        "recom_df"
      ],
      "metadata": {
        "execution": {
          "iopub.status.busy": "2022-09-07T11:22:00.983753Z",
          "iopub.execute_input": "2022-09-07T11:22:00.984317Z",
          "iopub.status.idle": "2022-09-07T11:22:01.009466Z",
          "shell.execute_reply.started": "2022-09-07T11:22:00.984274Z",
          "shell.execute_reply": "2022-09-07T11:22:01.008262Z"
        },
        "trusted": true,
        "colab": {
          "base_uri": "https://localhost:8080/",
          "height": 143
        },
        "id": "E1i5z9H5szD-",
        "outputId": "65531a30-bf58-43a4-fc92-55d0f0e08e75"
      },
      "execution_count": 14,
      "outputs": [
        {
          "output_type": "execute_result",
          "data": {
            "text/plain": [
              "  Article  Distance\n",
              "1       3  0.343159\n",
              "2       1  0.400575\n",
              "3       4  0.863547"
            ],
            "text/html": [
              "\n",
              "  <div id=\"df-0f6cb7ef-f44a-4972-9453-e27813825bae\">\n",
              "    <div class=\"colab-df-container\">\n",
              "      <div>\n",
              "<style scoped>\n",
              "    .dataframe tbody tr th:only-of-type {\n",
              "        vertical-align: middle;\n",
              "    }\n",
              "\n",
              "    .dataframe tbody tr th {\n",
              "        vertical-align: top;\n",
              "    }\n",
              "\n",
              "    .dataframe thead th {\n",
              "        text-align: right;\n",
              "    }\n",
              "</style>\n",
              "<table border=\"1\" class=\"dataframe\">\n",
              "  <thead>\n",
              "    <tr style=\"text-align: right;\">\n",
              "      <th></th>\n",
              "      <th>Article</th>\n",
              "      <th>Distance</th>\n",
              "    </tr>\n",
              "  </thead>\n",
              "  <tbody>\n",
              "    <tr>\n",
              "      <th>1</th>\n",
              "      <td>3</td>\n",
              "      <td>0.343159</td>\n",
              "    </tr>\n",
              "    <tr>\n",
              "      <th>2</th>\n",
              "      <td>1</td>\n",
              "      <td>0.400575</td>\n",
              "    </tr>\n",
              "    <tr>\n",
              "      <th>3</th>\n",
              "      <td>4</td>\n",
              "      <td>0.863547</td>\n",
              "    </tr>\n",
              "  </tbody>\n",
              "</table>\n",
              "</div>\n",
              "      <button class=\"colab-df-convert\" onclick=\"convertToInteractive('df-0f6cb7ef-f44a-4972-9453-e27813825bae')\"\n",
              "              title=\"Convert this dataframe to an interactive table.\"\n",
              "              style=\"display:none;\">\n",
              "        \n",
              "  <svg xmlns=\"http://www.w3.org/2000/svg\" height=\"24px\"viewBox=\"0 0 24 24\"\n",
              "       width=\"24px\">\n",
              "    <path d=\"M0 0h24v24H0V0z\" fill=\"none\"/>\n",
              "    <path d=\"M18.56 5.44l.94 2.06.94-2.06 2.06-.94-2.06-.94-.94-2.06-.94 2.06-2.06.94zm-11 1L8.5 8.5l.94-2.06 2.06-.94-2.06-.94L8.5 2.5l-.94 2.06-2.06.94zm10 10l.94 2.06.94-2.06 2.06-.94-2.06-.94-.94-2.06-.94 2.06-2.06.94z\"/><path d=\"M17.41 7.96l-1.37-1.37c-.4-.4-.92-.59-1.43-.59-.52 0-1.04.2-1.43.59L10.3 9.45l-7.72 7.72c-.78.78-.78 2.05 0 2.83L4 21.41c.39.39.9.59 1.41.59.51 0 1.02-.2 1.41-.59l7.78-7.78 2.81-2.81c.8-.78.8-2.07 0-2.86zM5.41 20L4 18.59l7.72-7.72 1.47 1.35L5.41 20z\"/>\n",
              "  </svg>\n",
              "      </button>\n",
              "      \n",
              "  <style>\n",
              "    .colab-df-container {\n",
              "      display:flex;\n",
              "      flex-wrap:wrap;\n",
              "      gap: 12px;\n",
              "    }\n",
              "\n",
              "    .colab-df-convert {\n",
              "      background-color: #E8F0FE;\n",
              "      border: none;\n",
              "      border-radius: 50%;\n",
              "      cursor: pointer;\n",
              "      display: none;\n",
              "      fill: #1967D2;\n",
              "      height: 32px;\n",
              "      padding: 0 0 0 0;\n",
              "      width: 32px;\n",
              "    }\n",
              "\n",
              "    .colab-df-convert:hover {\n",
              "      background-color: #E2EBFA;\n",
              "      box-shadow: 0px 1px 2px rgba(60, 64, 67, 0.3), 0px 1px 3px 1px rgba(60, 64, 67, 0.15);\n",
              "      fill: #174EA6;\n",
              "    }\n",
              "\n",
              "    [theme=dark] .colab-df-convert {\n",
              "      background-color: #3B4455;\n",
              "      fill: #D2E3FC;\n",
              "    }\n",
              "\n",
              "    [theme=dark] .colab-df-convert:hover {\n",
              "      background-color: #434B5C;\n",
              "      box-shadow: 0px 1px 3px 1px rgba(0, 0, 0, 0.15);\n",
              "      filter: drop-shadow(0px 1px 2px rgba(0, 0, 0, 0.3));\n",
              "      fill: #FFFFFF;\n",
              "    }\n",
              "  </style>\n",
              "\n",
              "      <script>\n",
              "        const buttonEl =\n",
              "          document.querySelector('#df-0f6cb7ef-f44a-4972-9453-e27813825bae button.colab-df-convert');\n",
              "        buttonEl.style.display =\n",
              "          google.colab.kernel.accessAllowed ? 'block' : 'none';\n",
              "\n",
              "        async function convertToInteractive(key) {\n",
              "          const element = document.querySelector('#df-0f6cb7ef-f44a-4972-9453-e27813825bae');\n",
              "          const dataTable =\n",
              "            await google.colab.kernel.invokeFunction('convertToInteractive',\n",
              "                                                     [key], {});\n",
              "          if (!dataTable) return;\n",
              "\n",
              "          const docLinkHtml = 'Like what you see? Visit the ' +\n",
              "            '<a target=\"_blank\" href=https://colab.research.google.com/notebooks/data_table.ipynb>data table notebook</a>'\n",
              "            + ' to learn more about interactive tables.';\n",
              "          element.innerHTML = '';\n",
              "          dataTable['output_type'] = 'display_data';\n",
              "          await google.colab.output.renderOutput(dataTable, element);\n",
              "          const docLink = document.createElement('div');\n",
              "          docLink.innerHTML = docLinkHtml;\n",
              "          element.appendChild(docLink);\n",
              "        }\n",
              "      </script>\n",
              "    </div>\n",
              "  </div>\n",
              "  "
            ]
          },
          "metadata": {},
          "execution_count": 14
        }
      ]
    },
    {
      "cell_type": "code",
      "source": [
        "recom_df.reset_index().drop('index', axis = 1)"
      ],
      "metadata": {
        "execution": {
          "iopub.status.busy": "2022-09-07T11:22:01.011271Z",
          "iopub.execute_input": "2022-09-07T11:22:01.011703Z",
          "iopub.status.idle": "2022-09-07T11:22:01.023898Z",
          "shell.execute_reply.started": "2022-09-07T11:22:01.011662Z",
          "shell.execute_reply": "2022-09-07T11:22:01.022889Z"
        },
        "trusted": true,
        "colab": {
          "base_uri": "https://localhost:8080/",
          "height": 143
        },
        "id": "jrl9mAsyszD-",
        "outputId": "0c7385cb-f975-4e21-dc3b-ed37fc98c861"
      },
      "execution_count": 15,
      "outputs": [
        {
          "output_type": "execute_result",
          "data": {
            "text/plain": [
              "  Article  Distance\n",
              "0       3  0.343159\n",
              "1       1  0.400575\n",
              "2       4  0.863547"
            ],
            "text/html": [
              "\n",
              "  <div id=\"df-09a25036-5811-4f70-a893-a4f1112ffb09\">\n",
              "    <div class=\"colab-df-container\">\n",
              "      <div>\n",
              "<style scoped>\n",
              "    .dataframe tbody tr th:only-of-type {\n",
              "        vertical-align: middle;\n",
              "    }\n",
              "\n",
              "    .dataframe tbody tr th {\n",
              "        vertical-align: top;\n",
              "    }\n",
              "\n",
              "    .dataframe thead th {\n",
              "        text-align: right;\n",
              "    }\n",
              "</style>\n",
              "<table border=\"1\" class=\"dataframe\">\n",
              "  <thead>\n",
              "    <tr style=\"text-align: right;\">\n",
              "      <th></th>\n",
              "      <th>Article</th>\n",
              "      <th>Distance</th>\n",
              "    </tr>\n",
              "  </thead>\n",
              "  <tbody>\n",
              "    <tr>\n",
              "      <th>0</th>\n",
              "      <td>3</td>\n",
              "      <td>0.343159</td>\n",
              "    </tr>\n",
              "    <tr>\n",
              "      <th>1</th>\n",
              "      <td>1</td>\n",
              "      <td>0.400575</td>\n",
              "    </tr>\n",
              "    <tr>\n",
              "      <th>2</th>\n",
              "      <td>4</td>\n",
              "      <td>0.863547</td>\n",
              "    </tr>\n",
              "  </tbody>\n",
              "</table>\n",
              "</div>\n",
              "      <button class=\"colab-df-convert\" onclick=\"convertToInteractive('df-09a25036-5811-4f70-a893-a4f1112ffb09')\"\n",
              "              title=\"Convert this dataframe to an interactive table.\"\n",
              "              style=\"display:none;\">\n",
              "        \n",
              "  <svg xmlns=\"http://www.w3.org/2000/svg\" height=\"24px\"viewBox=\"0 0 24 24\"\n",
              "       width=\"24px\">\n",
              "    <path d=\"M0 0h24v24H0V0z\" fill=\"none\"/>\n",
              "    <path d=\"M18.56 5.44l.94 2.06.94-2.06 2.06-.94-2.06-.94-.94-2.06-.94 2.06-2.06.94zm-11 1L8.5 8.5l.94-2.06 2.06-.94-2.06-.94L8.5 2.5l-.94 2.06-2.06.94zm10 10l.94 2.06.94-2.06 2.06-.94-2.06-.94-.94-2.06-.94 2.06-2.06.94z\"/><path d=\"M17.41 7.96l-1.37-1.37c-.4-.4-.92-.59-1.43-.59-.52 0-1.04.2-1.43.59L10.3 9.45l-7.72 7.72c-.78.78-.78 2.05 0 2.83L4 21.41c.39.39.9.59 1.41.59.51 0 1.02-.2 1.41-.59l7.78-7.78 2.81-2.81c.8-.78.8-2.07 0-2.86zM5.41 20L4 18.59l7.72-7.72 1.47 1.35L5.41 20z\"/>\n",
              "  </svg>\n",
              "      </button>\n",
              "      \n",
              "  <style>\n",
              "    .colab-df-container {\n",
              "      display:flex;\n",
              "      flex-wrap:wrap;\n",
              "      gap: 12px;\n",
              "    }\n",
              "\n",
              "    .colab-df-convert {\n",
              "      background-color: #E8F0FE;\n",
              "      border: none;\n",
              "      border-radius: 50%;\n",
              "      cursor: pointer;\n",
              "      display: none;\n",
              "      fill: #1967D2;\n",
              "      height: 32px;\n",
              "      padding: 0 0 0 0;\n",
              "      width: 32px;\n",
              "    }\n",
              "\n",
              "    .colab-df-convert:hover {\n",
              "      background-color: #E2EBFA;\n",
              "      box-shadow: 0px 1px 2px rgba(60, 64, 67, 0.3), 0px 1px 3px 1px rgba(60, 64, 67, 0.15);\n",
              "      fill: #174EA6;\n",
              "    }\n",
              "\n",
              "    [theme=dark] .colab-df-convert {\n",
              "      background-color: #3B4455;\n",
              "      fill: #D2E3FC;\n",
              "    }\n",
              "\n",
              "    [theme=dark] .colab-df-convert:hover {\n",
              "      background-color: #434B5C;\n",
              "      box-shadow: 0px 1px 3px 1px rgba(0, 0, 0, 0.15);\n",
              "      filter: drop-shadow(0px 1px 2px rgba(0, 0, 0, 0.3));\n",
              "      fill: #FFFFFF;\n",
              "    }\n",
              "  </style>\n",
              "\n",
              "      <script>\n",
              "        const buttonEl =\n",
              "          document.querySelector('#df-09a25036-5811-4f70-a893-a4f1112ffb09 button.colab-df-convert');\n",
              "        buttonEl.style.display =\n",
              "          google.colab.kernel.accessAllowed ? 'block' : 'none';\n",
              "\n",
              "        async function convertToInteractive(key) {\n",
              "          const element = document.querySelector('#df-09a25036-5811-4f70-a893-a4f1112ffb09');\n",
              "          const dataTable =\n",
              "            await google.colab.kernel.invokeFunction('convertToInteractive',\n",
              "                                                     [key], {});\n",
              "          if (!dataTable) return;\n",
              "\n",
              "          const docLinkHtml = 'Like what you see? Visit the ' +\n",
              "            '<a target=\"_blank\" href=https://colab.research.google.com/notebooks/data_table.ipynb>data table notebook</a>'\n",
              "            + ' to learn more about interactive tables.';\n",
              "          element.innerHTML = '';\n",
              "          dataTable['output_type'] = 'display_data';\n",
              "          await google.colab.output.renderOutput(dataTable, element);\n",
              "          const docLink = document.createElement('div');\n",
              "          docLink.innerHTML = docLinkHtml;\n",
              "          element.appendChild(docLink);\n",
              "        }\n",
              "      </script>\n",
              "    </div>\n",
              "  </div>\n",
              "  "
            ]
          },
          "metadata": {},
          "execution_count": 15
        }
      ]
    },
    {
      "cell_type": "code",
      "source": [
        "fig, axes = plt.subplots(1, len(recom_df))\n",
        "\n",
        "for i, row in recom_df.iterrows():\n",
        "    article = row[0]\n",
        "    path = item_df[item_df['article'] == article]['image'].item()\n",
        "    img = Image.open(path).convert('RGB')\n",
        "    axes[i-1].imshow(img)\n",
        "    axes[i-1].set_title('article : {article}; '.format(article = article) + ' dist : {dist}'.format(dist = round(row[1], 3)))\n",
        "\n",
        "for ax in axes:\n",
        "    ax.set_xticks([])\n",
        "    ax.set_yticks([])\n",
        "\n",
        "fig.set_figwidth(12)\n",
        "fig.set_figheight(6)\n",
        "\n",
        "plt.show()\n",
        "    "
      ],
      "metadata": {
        "execution": {
          "iopub.status.busy": "2022-09-07T11:22:01.025650Z",
          "iopub.execute_input": "2022-09-07T11:22:01.026285Z",
          "iopub.status.idle": "2022-09-07T11:22:02.114851Z",
          "shell.execute_reply.started": "2022-09-07T11:22:01.026213Z",
          "shell.execute_reply": "2022-09-07T11:22:02.113566Z"
        },
        "trusted": true,
        "colab": {
          "base_uri": "https://localhost:8080/",
          "height": 335
        },
        "id": "4NsZM1jHszD-",
        "outputId": "b27c522a-19c0-46d6-a7a5-2740ce06bbed"
      },
      "execution_count": 16,
      "outputs": [
        {
          "output_type": "display_data",
          "data": {
            "text/plain": [
              "<Figure size 864x432 with 3 Axes>"
            ],
            "image/png": "[encoded data removed]"
          },
          "metadata": {}
        }
      ]
    },
    {
      "cell_type": "markdown",
      "source": [
        "# Подсчет рейтинга для item-based системы"
      ],
      "metadata": {
        "id": "Sq8ZHqzKszD_"
      }
    },
    {
      "cell_type": "code",
      "source": [
        "#расчета косинусного сходства\n",
        "def similar(x, y):\n",
        "    \n",
        "    xLen = np.linalg.norm(x)\n",
        "    yLen = np.linalg.norm(y)\n",
        "\n",
        "    result = np.dot(x, y)/(xLen * yLen)\n",
        "    \n",
        "    return result"
      ],
      "metadata": {
        "execution": {
          "iopub.status.busy": "2022-09-07T11:22:02.116172Z",
          "iopub.execute_input": "2022-09-07T11:22:02.117359Z",
          "iopub.status.idle": "2022-09-07T11:22:02.124184Z",
          "shell.execute_reply.started": "2022-09-07T11:22:02.117306Z",
          "shell.execute_reply": "2022-09-07T11:22:02.123005Z"
        },
        "trusted": true,
        "id": "cC6KhlhdszD_"
      },
      "execution_count": 17,
      "outputs": []
    },
    {
      "cell_type": "markdown",
      "source": [
        "Мы можем векторизовать определенное событие. Пользователь, который в рамках текущей сессии просматривал некоторое множество товаров с заданным распределением цветов, готовится посмотреть какой-то новый товар, например красный. Используя исторические данные о показах и кликах, можно построить модель, которая бы предсказывала вероятность клика по красному товару при условии наличия у него существующего распределения цветов у просмотренных ранее товаров.\n"
      ],
      "metadata": {
        "id": "L9OBqvksszD_"
      }
    },
    {
      "cell_type": "code",
      "source": [
        "user_1 = user_log_df[user_log_df['user_id'] == 1]\n",
        "user_1\n"
      ],
      "metadata": {
        "execution": {
          "iopub.status.busy": "2022-09-07T11:22:02.125908Z",
          "iopub.execute_input": "2022-09-07T11:22:02.127042Z",
          "iopub.status.idle": "2022-09-07T11:22:02.145195Z",
          "shell.execute_reply.started": "2022-09-07T11:22:02.126998Z",
          "shell.execute_reply": "2022-09-07T11:22:02.143406Z"
        },
        "trusted": true,
        "colab": {
          "base_uri": "https://localhost:8080/",
          "height": 175
        },
        "id": "v3ZjT-jCszD_",
        "outputId": "47527fff-38dc-4e15-9851-89a7a754fc09"
      },
      "execution_count": 18,
      "outputs": [
        {
          "output_type": "execute_result",
          "data": {
            "text/plain": [
              "   user_id  item_id  add_cart  add_fav  page_view\n",
              "0        1        1         1        0          1\n",
              "1        1        2         0        0          2\n",
              "2        1        3         1        1          3\n",
              "9        1        4         1        0          1"
            ],
            "text/html": [
              "\n",
              "  <div id=\"df-bcb67270-3cac-4c5d-832b-87827a4ab2af\">\n",
              "    <div class=\"colab-df-container\">\n",
              "      <div>\n",
              "<style scoped>\n",
              "    .dataframe tbody tr th:only-of-type {\n",
              "        vertical-align: middle;\n",
              "    }\n",
              "\n",
              "    .dataframe tbody tr th {\n",
              "        vertical-align: top;\n",
              "    }\n",
              "\n",
              "    .dataframe thead th {\n",
              "        text-align: right;\n",
              "    }\n",
              "</style>\n",
              "<table border=\"1\" class=\"dataframe\">\n",
              "  <thead>\n",
              "    <tr style=\"text-align: right;\">\n",
              "      <th></th>\n",
              "      <th>user_id</th>\n",
              "      <th>item_id</th>\n",
              "      <th>add_cart</th>\n",
              "      <th>add_fav</th>\n",
              "      <th>page_view</th>\n",
              "    </tr>\n",
              "  </thead>\n",
              "  <tbody>\n",
              "    <tr>\n",
              "      <th>0</th>\n",
              "      <td>1</td>\n",
              "      <td>1</td>\n",
              "      <td>1</td>\n",
              "      <td>0</td>\n",
              "      <td>1</td>\n",
              "    </tr>\n",
              "    <tr>\n",
              "      <th>1</th>\n",
              "      <td>1</td>\n",
              "      <td>2</td>\n",
              "      <td>0</td>\n",
              "      <td>0</td>\n",
              "      <td>2</td>\n",
              "    </tr>\n",
              "    <tr>\n",
              "      <th>2</th>\n",
              "      <td>1</td>\n",
              "      <td>3</td>\n",
              "      <td>1</td>\n",
              "      <td>1</td>\n",
              "      <td>3</td>\n",
              "    </tr>\n",
              "    <tr>\n",
              "      <th>9</th>\n",
              "      <td>1</td>\n",
              "      <td>4</td>\n",
              "      <td>1</td>\n",
              "      <td>0</td>\n",
              "      <td>1</td>\n",
              "    </tr>\n",
              "  </tbody>\n",
              "</table>\n",
              "</div>\n",
              "      <button class=\"colab-df-convert\" onclick=\"convertToInteractive('df-bcb67270-3cac-4c5d-832b-87827a4ab2af')\"\n",
              "              title=\"Convert this dataframe to an interactive table.\"\n",
              "              style=\"display:none;\">\n",
              "        \n",
              "  <svg xmlns=\"http://www.w3.org/2000/svg\" height=\"24px\"viewBox=\"0 0 24 24\"\n",
              "       width=\"24px\">\n",
              "    <path d=\"M0 0h24v24H0V0z\" fill=\"none\"/>\n",
              "    <path d=\"M18.56 5.44l.94 2.06.94-2.06 2.06-.94-2.06-.94-.94-2.06-.94 2.06-2.06.94zm-11 1L8.5 8.5l.94-2.06 2.06-.94-2.06-.94L8.5 2.5l-.94 2.06-2.06.94zm10 10l.94 2.06.94-2.06 2.06-.94-2.06-.94-.94-2.06-.94 2.06-2.06.94z\"/><path d=\"M17.41 7.96l-1.37-1.37c-.4-.4-.92-.59-1.43-.59-.52 0-1.04.2-1.43.59L10.3 9.45l-7.72 7.72c-.78.78-.78 2.05 0 2.83L4 21.41c.39.39.9.59 1.41.59.51 0 1.02-.2 1.41-.59l7.78-7.78 2.81-2.81c.8-.78.8-2.07 0-2.86zM5.41 20L4 18.59l7.72-7.72 1.47 1.35L5.41 20z\"/>\n",
              "  </svg>\n",
              "      </button>\n",
              "      \n",
              "  <style>\n",
              "    .colab-df-container {\n",
              "      display:flex;\n",
              "      flex-wrap:wrap;\n",
              "      gap: 12px;\n",
              "    }\n",
              "\n",
              "    .colab-df-convert {\n",
              "      background-color: #E8F0FE;\n",
              "      border: none;\n",
              "      border-radius: 50%;\n",
              "      cursor: pointer;\n",
              "      display: none;\n",
              "      fill: #1967D2;\n",
              "      height: 32px;\n",
              "      padding: 0 0 0 0;\n",
              "      width: 32px;\n",
              "    }\n",
              "\n",
              "    .colab-df-convert:hover {\n",
              "      background-color: #E2EBFA;\n",
              "      box-shadow: 0px 1px 2px rgba(60, 64, 67, 0.3), 0px 1px 3px 1px rgba(60, 64, 67, 0.15);\n",
              "      fill: #174EA6;\n",
              "    }\n",
              "\n",
              "    [theme=dark] .colab-df-convert {\n",
              "      background-color: #3B4455;\n",
              "      fill: #D2E3FC;\n",
              "    }\n",
              "\n",
              "    [theme=dark] .colab-df-convert:hover {\n",
              "      background-color: #434B5C;\n",
              "      box-shadow: 0px 1px 3px 1px rgba(0, 0, 0, 0.15);\n",
              "      filter: drop-shadow(0px 1px 2px rgba(0, 0, 0, 0.3));\n",
              "      fill: #FFFFFF;\n",
              "    }\n",
              "  </style>\n",
              "\n",
              "      <script>\n",
              "        const buttonEl =\n",
              "          document.querySelector('#df-bcb67270-3cac-4c5d-832b-87827a4ab2af button.colab-df-convert');\n",
              "        buttonEl.style.display =\n",
              "          google.colab.kernel.accessAllowed ? 'block' : 'none';\n",
              "\n",
              "        async function convertToInteractive(key) {\n",
              "          const element = document.querySelector('#df-bcb67270-3cac-4c5d-832b-87827a4ab2af');\n",
              "          const dataTable =\n",
              "            await google.colab.kernel.invokeFunction('convertToInteractive',\n",
              "                                                     [key], {});\n",
              "          if (!dataTable) return;\n",
              "\n",
              "          const docLinkHtml = 'Like what you see? Visit the ' +\n",
              "            '<a target=\"_blank\" href=https://colab.research.google.com/notebooks/data_table.ipynb>data table notebook</a>'\n",
              "            + ' to learn more about interactive tables.';\n",
              "          element.innerHTML = '';\n",
              "          dataTable['output_type'] = 'display_data';\n",
              "          await google.colab.output.renderOutput(dataTable, element);\n",
              "          const docLink = document.createElement('div');\n",
              "          docLink.innerHTML = docLinkHtml;\n",
              "          element.appendChild(docLink);\n",
              "        }\n",
              "      </script>\n",
              "    </div>\n",
              "  </div>\n",
              "  "
            ]
          },
          "metadata": {},
          "execution_count": 18
        }
      ]
    },
    {
      "cell_type": "code",
      "source": [
        "item_df"
      ],
      "metadata": {
        "execution": {
          "iopub.status.busy": "2022-09-07T11:22:02.146825Z",
          "iopub.execute_input": "2022-09-07T11:22:02.148227Z",
          "iopub.status.idle": "2022-09-07T11:22:02.166014Z",
          "shell.execute_reply.started": "2022-09-07T11:22:02.148177Z",
          "shell.execute_reply": "2022-09-07T11:22:02.164742Z"
        },
        "trusted": true,
        "colab": {
          "base_uri": "https://localhost:8080/",
          "height": 175
        },
        "id": "vuUTw9deszEA",
        "outputId": "60e69dc8-b244-43eb-84b4-e24335a341e8"
      },
      "execution_count": 19,
      "outputs": [
        {
          "output_type": "execute_result",
          "data": {
            "text/plain": [
              "   item_id article                category      subcategory   brand   color  \\\n",
              "0        1       1  dresses and sundresses  evening dresses   lichi    blue   \n",
              "1        2       2                outwears            coats  zarina   black   \n",
              "2        3       3       t-shirts and polo         t-shirts  befree  yellow   \n",
              "3        4       4                     NaN              NaN  zarina    blue   \n",
              "\n",
              "    material season price                        image  \n",
              "0  polyester  multi  3500  /content/items_photo/1.webp  \n",
              "1  polyester   demi  8000  /content/items_photo/2.webp  \n",
              "2     cotton  multi  1500  /content/items_photo/3.webp  \n",
              "3        NaN    NaN   NaN  /content/items_photo/4.webp  "
            ],
            "text/html": [
              "\n",
              "  <div id=\"df-7625a227-0a26-402e-b51f-e68d7512b37c\">\n",
              "    <div class=\"colab-df-container\">\n",
              "      <div>\n",
              "<style scoped>\n",
              "    .dataframe tbody tr th:only-of-type {\n",
              "        vertical-align: middle;\n",
              "    }\n",
              "\n",
              "    .dataframe tbody tr th {\n",
              "        vertical-align: top;\n",
              "    }\n",
              "\n",
              "    .dataframe thead th {\n",
              "        text-align: right;\n",
              "    }\n",
              "</style>\n",
              "<table border=\"1\" class=\"dataframe\">\n",
              "  <thead>\n",
              "    <tr style=\"text-align: right;\">\n",
              "      <th></th>\n",
              "      <th>item_id</th>\n",
              "      <th>article</th>\n",
              "      <th>category</th>\n",
              "      <th>subcategory</th>\n",
              "      <th>brand</th>\n",
              "      <th>color</th>\n",
              "      <th>material</th>\n",
              "      <th>season</th>\n",
              "      <th>price</th>\n",
              "      <th>image</th>\n",
              "    </tr>\n",
              "  </thead>\n",
              "  <tbody>\n",
              "    <tr>\n",
              "      <th>0</th>\n",
              "      <td>1</td>\n",
              "      <td>1</td>\n",
              "      <td>dresses and sundresses</td>\n",
              "      <td>evening dresses</td>\n",
              "      <td>lichi</td>\n",
              "      <td>blue</td>\n",
              "      <td>polyester</td>\n",
              "      <td>multi</td>\n",
              "      <td>3500</td>\n",
              "      <td>/content/items_photo/1.webp</td>\n",
              "    </tr>\n",
              "    <tr>\n",
              "      <th>1</th>\n",
              "      <td>2</td>\n",
              "      <td>2</td>\n",
              "      <td>outwears</td>\n",
              "      <td>coats</td>\n",
              "      <td>zarina</td>\n",
              "      <td>black</td>\n",
              "      <td>polyester</td>\n",
              "      <td>demi</td>\n",
              "      <td>8000</td>\n",
              "      <td>/content/items_photo/2.webp</td>\n",
              "    </tr>\n",
              "    <tr>\n",
              "      <th>2</th>\n",
              "      <td>3</td>\n",
              "      <td>3</td>\n",
              "      <td>t-shirts and polo</td>\n",
              "      <td>t-shirts</td>\n",
              "      <td>befree</td>\n",
              "      <td>yellow</td>\n",
              "      <td>cotton</td>\n",
              "      <td>multi</td>\n",
              "      <td>1500</td>\n",
              "      <td>/content/items_photo/3.webp</td>\n",
              "    </tr>\n",
              "    <tr>\n",
              "      <th>3</th>\n",
              "      <td>4</td>\n",
              "      <td>4</td>\n",
              "      <td>NaN</td>\n",
              "      <td>NaN</td>\n",
              "      <td>zarina</td>\n",
              "      <td>blue</td>\n",
              "      <td>NaN</td>\n",
              "      <td>NaN</td>\n",
              "      <td>NaN</td>\n",
              "      <td>/content/items_photo/4.webp</td>\n",
              "    </tr>\n",
              "  </tbody>\n",
              "</table>\n",
              "</div>\n",
              "      <button class=\"colab-df-convert\" onclick=\"convertToInteractive('df-7625a227-0a26-402e-b51f-e68d7512b37c')\"\n",
              "              title=\"Convert this dataframe to an interactive table.\"\n",
              "              style=\"display:none;\">\n",
              "        \n",
              "  <svg xmlns=\"http://www.w3.org/2000/svg\" height=\"24px\"viewBox=\"0 0 24 24\"\n",
              "       width=\"24px\">\n",
              "    <path d=\"M0 0h24v24H0V0z\" fill=\"none\"/>\n",
              "    <path d=\"M18.56 5.44l.94 2.06.94-2.06 2.06-.94-2.06-.94-.94-2.06-.94 2.06-2.06.94zm-11 1L8.5 8.5l.94-2.06 2.06-.94-2.06-.94L8.5 2.5l-.94 2.06-2.06.94zm10 10l.94 2.06.94-2.06 2.06-.94-2.06-.94-.94-2.06-.94 2.06-2.06.94z\"/><path d=\"M17.41 7.96l-1.37-1.37c-.4-.4-.92-.59-1.43-.59-.52 0-1.04.2-1.43.59L10.3 9.45l-7.72 7.72c-.78.78-.78 2.05 0 2.83L4 21.41c.39.39.9.59 1.41.59.51 0 1.02-.2 1.41-.59l7.78-7.78 2.81-2.81c.8-.78.8-2.07 0-2.86zM5.41 20L4 18.59l7.72-7.72 1.47 1.35L5.41 20z\"/>\n",
              "  </svg>\n",
              "      </button>\n",
              "      \n",
              "  <style>\n",
              "    .colab-df-container {\n",
              "      display:flex;\n",
              "      flex-wrap:wrap;\n",
              "      gap: 12px;\n",
              "    }\n",
              "\n",
              "    .colab-df-convert {\n",
              "      background-color: #E8F0FE;\n",
              "      border: none;\n",
              "      border-radius: 50%;\n",
              "      cursor: pointer;\n",
              "      display: none;\n",
              "      fill: #1967D2;\n",
              "      height: 32px;\n",
              "      padding: 0 0 0 0;\n",
              "      width: 32px;\n",
              "    }\n",
              "\n",
              "    .colab-df-convert:hover {\n",
              "      background-color: #E2EBFA;\n",
              "      box-shadow: 0px 1px 2px rgba(60, 64, 67, 0.3), 0px 1px 3px 1px rgba(60, 64, 67, 0.15);\n",
              "      fill: #174EA6;\n",
              "    }\n",
              "\n",
              "    [theme=dark] .colab-df-convert {\n",
              "      background-color: #3B4455;\n",
              "      fill: #D2E3FC;\n",
              "    }\n",
              "\n",
              "    [theme=dark] .colab-df-convert:hover {\n",
              "      background-color: #434B5C;\n",
              "      box-shadow: 0px 1px 3px 1px rgba(0, 0, 0, 0.15);\n",
              "      filter: drop-shadow(0px 1px 2px rgba(0, 0, 0, 0.3));\n",
              "      fill: #FFFFFF;\n",
              "    }\n",
              "  </style>\n",
              "\n",
              "      <script>\n",
              "        const buttonEl =\n",
              "          document.querySelector('#df-7625a227-0a26-402e-b51f-e68d7512b37c button.colab-df-convert');\n",
              "        buttonEl.style.display =\n",
              "          google.colab.kernel.accessAllowed ? 'block' : 'none';\n",
              "\n",
              "        async function convertToInteractive(key) {\n",
              "          const element = document.querySelector('#df-7625a227-0a26-402e-b51f-e68d7512b37c');\n",
              "          const dataTable =\n",
              "            await google.colab.kernel.invokeFunction('convertToInteractive',\n",
              "                                                     [key], {});\n",
              "          if (!dataTable) return;\n",
              "\n",
              "          const docLinkHtml = 'Like what you see? Visit the ' +\n",
              "            '<a target=\"_blank\" href=https://colab.research.google.com/notebooks/data_table.ipynb>data table notebook</a>'\n",
              "            + ' to learn more about interactive tables.';\n",
              "          element.innerHTML = '';\n",
              "          dataTable['output_type'] = 'display_data';\n",
              "          await google.colab.output.renderOutput(dataTable, element);\n",
              "          const docLink = document.createElement('div');\n",
              "          docLink.innerHTML = docLinkHtml;\n",
              "          element.appendChild(docLink);\n",
              "        }\n",
              "      </script>\n",
              "    </div>\n",
              "  </div>\n",
              "  "
            ]
          },
          "metadata": {},
          "execution_count": 19
        }
      ]
    },
    {
      "cell_type": "code",
      "source": [
        "brand_cart_add = {'lichi' : [], 'zarina' : [], 'befree': []}\n",
        "color_cart_add = {'blue' : [], 'black' : [], 'yellow' : []}\n",
        "brand_page_view = {'lichi' : [], 'zarina' : [], 'befree': []}\n",
        "color_page_view = {'blue' : [], 'black' : [], 'yellow' : []}\n",
        "\n",
        "for i, row in user_1.iterrows():\n",
        "    id = row[1]\n",
        "    brand = item_df[item_df['item_id'] == id]['brand'].item()\n",
        "    color = item_df[item_df['item_id'] == id]['color'].item()\n",
        "   \n",
        "    brand_cart_add[brand].append(row[2])\n",
        "    color_cart_add[color].append(row[2])\n",
        "    brand_page_view[brand].append(row[4])\n",
        "    color_page_view[color].append(row[4])\n",
        "    \n",
        "print(brand_cart_add, color_cart_add, brand_page_view, color_page_view)"
      ],
      "metadata": {
        "execution": {
          "iopub.status.busy": "2022-09-07T11:22:02.168062Z",
          "iopub.execute_input": "2022-09-07T11:22:02.168549Z",
          "iopub.status.idle": "2022-09-07T11:22:02.184764Z",
          "shell.execute_reply.started": "2022-09-07T11:22:02.168504Z",
          "shell.execute_reply": "2022-09-07T11:22:02.183811Z"
        },
        "trusted": true,
        "colab": {
          "base_uri": "https://localhost:8080/"
        },
        "id": "snRANlvqszEA",
        "outputId": "4a64706a-f913-4c2f-8212-3ebcdb0bb705"
      },
      "execution_count": 20,
      "outputs": [
        {
          "output_type": "stream",
          "name": "stdout",
          "text": [
            "{'lichi': [1], 'zarina': [0, 1], 'befree': [1]} {'blue': [1, 1], 'black': [0], 'yellow': [1]} {'lichi': [1], 'zarina': [2, 1], 'befree': [3]} {'blue': [1, 1], 'black': [2], 'yellow': [3]}\n"
          ]
        }
      ]
    },
    {
      "cell_type": "code",
      "source": [
        "list_feature = [brand_cart_add, color_cart_add, brand_page_view, color_page_view]\n",
        "session_list_of_user = []\n",
        "\n",
        "for f in list_feature:\n",
        "    count = 0\n",
        "    for v in f.values():\n",
        "        count += sum(v)\n",
        "    for v in f.values():\n",
        "        session_list_of_user.append( round(sum(v) / count, 2))\n",
        "\n",
        "print(session_list_of_user)"
      ],
      "metadata": {
        "execution": {
          "iopub.status.busy": "2022-09-07T11:22:02.186131Z",
          "iopub.execute_input": "2022-09-07T11:22:02.186780Z",
          "iopub.status.idle": "2022-09-07T11:22:02.199972Z",
          "shell.execute_reply.started": "2022-09-07T11:22:02.186746Z",
          "shell.execute_reply": "2022-09-07T11:22:02.198756Z"
        },
        "trusted": true,
        "colab": {
          "base_uri": "https://localhost:8080/"
        },
        "id": "vEL-k-NVszEA",
        "outputId": "d81db5a8-ceb1-4b4e-c974-a307b2ee5e0b"
      },
      "execution_count": 21,
      "outputs": [
        {
          "output_type": "stream",
          "name": "stdout",
          "text": [
            "[0.33, 0.33, 0.33, 0.67, 0.0, 0.33, 0.14, 0.43, 0.43, 0.29, 0.29, 0.43]\n"
          ]
        }
      ]
    },
    {
      "cell_type": "code",
      "source": [
        "#Для сравнения товары должны иметь подобный вектор -> проблема \n",
        "#Пока что сократим session_list_of_user до признаков cart_add\n",
        "\n",
        "cut_session_list = session_list_of_user[6:13]"
      ],
      "metadata": {
        "execution": {
          "iopub.status.busy": "2022-09-07T11:22:02.201618Z",
          "iopub.execute_input": "2022-09-07T11:22:02.202156Z",
          "iopub.status.idle": "2022-09-07T11:22:02.209213Z",
          "shell.execute_reply.started": "2022-09-07T11:22:02.202124Z",
          "shell.execute_reply": "2022-09-07T11:22:02.208265Z"
        },
        "trusted": true,
        "id": "WqIp1AmwszEA"
      },
      "execution_count": 22,
      "outputs": []
    },
    {
      "cell_type": "code",
      "source": [
        "#Представляем товары подобным вектором\n",
        "temp_dict = {'lichi' : [], 'zarina' : [], 'befree': [], 'blue' : [], 'black' : [], 'yellow' : []}\n",
        "\n",
        "for i, row in item_df.iterrows():\n",
        "    brand = row['brand']\n",
        "    color = row['color']\n",
        "    \n",
        "    for key in temp_dict:\n",
        "        if key == brand:\n",
        "            temp_dict[key].append(1)\n",
        "        elif key == color:\n",
        "            temp_dict[key].append(1)\n",
        "        else:\n",
        "            temp_dict[key].append(0)\n",
        "\n",
        "temp_list = []\n",
        "for i in range(len(temp_dict['lichi'])):\n",
        "    temp_list.append([])\n",
        "\n",
        "for value in temp_dict.values():\n",
        "    for i in range(len(value)):\n",
        "        temp_list[i].append(value[i])\n",
        "temp_list\n",
        "\n",
        "items_array = np.array(temp_list)\n",
        "items_array"
      ],
      "metadata": {
        "execution": {
          "iopub.status.busy": "2022-09-07T11:22:02.210703Z",
          "iopub.execute_input": "2022-09-07T11:22:02.211321Z",
          "iopub.status.idle": "2022-09-07T11:22:02.224097Z",
          "shell.execute_reply.started": "2022-09-07T11:22:02.211288Z",
          "shell.execute_reply": "2022-09-07T11:22:02.223307Z"
        },
        "trusted": true,
        "colab": {
          "base_uri": "https://localhost:8080/"
        },
        "id": "Ay8Tm2ZtszEA",
        "outputId": "3630bcbd-a766-4ca8-b3ca-85811f4fb207"
      },
      "execution_count": 23,
      "outputs": [
        {
          "output_type": "execute_result",
          "data": {
            "text/plain": [
              "array([[1, 0, 0, 1, 0, 0],\n",
              "       [0, 1, 0, 0, 1, 0],\n",
              "       [0, 0, 1, 0, 0, 1],\n",
              "       [0, 1, 0, 1, 0, 0]])"
            ]
          },
          "metadata": {},
          "execution_count": 23
        }
      ]
    },
    {
      "cell_type": "code",
      "source": [
        "user_sess_array = np.array(cut_session_list)\n",
        "user_sess_array"
      ],
      "metadata": {
        "execution": {
          "iopub.status.busy": "2022-09-07T11:22:02.225261Z",
          "iopub.execute_input": "2022-09-07T11:22:02.225931Z",
          "iopub.status.idle": "2022-09-07T11:22:02.236284Z",
          "shell.execute_reply.started": "2022-09-07T11:22:02.225899Z",
          "shell.execute_reply": "2022-09-07T11:22:02.235001Z"
        },
        "trusted": true,
        "colab": {
          "base_uri": "https://localhost:8080/"
        },
        "id": "YlBcMtXNszEB",
        "outputId": "d5cbfa31-39cf-4dcf-8130-ae66deaef8bc"
      },
      "execution_count": 24,
      "outputs": [
        {
          "output_type": "execute_result",
          "data": {
            "text/plain": [
              "array([0.14, 0.43, 0.43, 0.29, 0.29, 0.43])"
            ]
          },
          "metadata": {},
          "execution_count": 24
        }
      ]
    },
    {
      "cell_type": "markdown",
      "source": [
        "# Расчет косинусного сходства"
      ],
      "metadata": {
        "id": "8ZFNenLhszEB"
      }
    },
    {
      "cell_type": "code",
      "source": [
        "for i, item in enumerate(items_array, 1):\n",
        "  print(f'Товар {i} с оценками {item} имеет сходство с вектором пользователя {np.round(similar(item, user_sess_array), 3)}')"
      ],
      "metadata": {
        "execution": {
          "iopub.status.busy": "2022-09-07T11:22:02.238296Z",
          "iopub.execute_input": "2022-09-07T11:22:02.238886Z",
          "iopub.status.idle": "2022-09-07T11:22:02.248836Z",
          "shell.execute_reply.started": "2022-09-07T11:22:02.238842Z",
          "shell.execute_reply": "2022-09-07T11:22:02.247632Z"
        },
        "trusted": true,
        "colab": {
          "base_uri": "https://localhost:8080/"
        },
        "id": "4YAiA8T-szEB",
        "outputId": "d6e21fd4-9aad-480e-97cd-d83ac45b071c"
      },
      "execution_count": 25,
      "outputs": [
        {
          "output_type": "stream",
          "name": "stdout",
          "text": [
            "Товар 1 с оценками [1 0 0 1 0 0] имеет сходство с вектором пользователя 0.353\n",
            "Товар 2 с оценками [0 1 0 0 1 0] имеет сходство с вектором пользователя 0.591\n",
            "Товар 3 с оценками [0 0 1 0 0 1] имеет сходство с вектором пользователя 0.706\n",
            "Товар 4 с оценками [0 1 0 1 0 0] имеет сходство с вектором пользователя 0.591\n"
          ]
        }
      ]
    },
    {
      "cell_type": "code",
      "source": [
        "indices_list = []\n",
        "distances_list = []\n",
        "\n",
        "for i, item in enumerate(items_array, 1):\n",
        "    indices_list.append(i)\n",
        "    distances_list.append(np.round(similar(item, user_sess_array), 3))\n",
        "                          \n",
        "indices_distances = list(zip(indices_list, distances_list))\n",
        "\n",
        "indices_distances_sorted = sorted(indices_distances, key = lambda x: x[1], reverse = False)\n",
        "\n",
        "indices_distances_sorted"
      ],
      "metadata": {
        "execution": {
          "iopub.status.busy": "2022-09-07T11:22:02.251012Z",
          "iopub.execute_input": "2022-09-07T11:22:02.251868Z",
          "iopub.status.idle": "2022-09-07T11:22:02.266421Z",
          "shell.execute_reply.started": "2022-09-07T11:22:02.251824Z",
          "shell.execute_reply": "2022-09-07T11:22:02.265217Z"
        },
        "trusted": true,
        "colab": {
          "base_uri": "https://localhost:8080/"
        },
        "id": "M2DUCviNszEB",
        "outputId": "ce12094b-58e2-4b4a-e86d-d451cdd219d0"
      },
      "execution_count": 26,
      "outputs": [
        {
          "output_type": "execute_result",
          "data": {
            "text/plain": [
              "[(1, 0.353), (2, 0.591), (4, 0.591), (3, 0.706)]"
            ]
          },
          "metadata": {},
          "execution_count": 26
        }
      ]
    },
    {
      "cell_type": "code",
      "source": [
        "recom_list_item = []\n",
        "\n",
        "for ind_dist in indices_distances_sorted:\n",
        "    \n",
        "    id = ind_dist[0]\n",
        "    article = item_df.loc[item_df['item_id'] == id]['article'].values[0]\n",
        "    dist = ind_dist[1]\n",
        "\n",
        "    recom_list_item.append({'Article' : article, 'Distance' : dist})\n",
        "    \n",
        "    \n",
        "recom_item_df = pd.DataFrame(recom_list_item, index = range(1, recommendations + 2))\n",
        "recom_item_df"
      ],
      "metadata": {
        "execution": {
          "iopub.status.busy": "2022-09-07T11:22:02.268166Z",
          "iopub.execute_input": "2022-09-07T11:22:02.268563Z",
          "iopub.status.idle": "2022-09-07T11:22:02.285788Z",
          "shell.execute_reply.started": "2022-09-07T11:22:02.268530Z",
          "shell.execute_reply": "2022-09-07T11:22:02.284310Z"
        },
        "trusted": true,
        "colab": {
          "base_uri": "https://localhost:8080/",
          "height": 175
        },
        "id": "gQXZUTW8szEB",
        "outputId": "353d24ef-0361-4dce-803f-47a4292cd5e0"
      },
      "execution_count": 27,
      "outputs": [
        {
          "output_type": "execute_result",
          "data": {
            "text/plain": [
              "  Article  Distance\n",
              "1       1     0.353\n",
              "2       2     0.591\n",
              "3       4     0.591\n",
              "4       3     0.706"
            ],
            "text/html": [
              "\n",
              "  <div id=\"df-be5354ed-966a-415f-a3b5-1e0a70c9b3e2\">\n",
              "    <div class=\"colab-df-container\">\n",
              "      <div>\n",
              "<style scoped>\n",
              "    .dataframe tbody tr th:only-of-type {\n",
              "        vertical-align: middle;\n",
              "    }\n",
              "\n",
              "    .dataframe tbody tr th {\n",
              "        vertical-align: top;\n",
              "    }\n",
              "\n",
              "    .dataframe thead th {\n",
              "        text-align: right;\n",
              "    }\n",
              "</style>\n",
              "<table border=\"1\" class=\"dataframe\">\n",
              "  <thead>\n",
              "    <tr style=\"text-align: right;\">\n",
              "      <th></th>\n",
              "      <th>Article</th>\n",
              "      <th>Distance</th>\n",
              "    </tr>\n",
              "  </thead>\n",
              "  <tbody>\n",
              "    <tr>\n",
              "      <th>1</th>\n",
              "      <td>1</td>\n",
              "      <td>0.353</td>\n",
              "    </tr>\n",
              "    <tr>\n",
              "      <th>2</th>\n",
              "      <td>2</td>\n",
              "      <td>0.591</td>\n",
              "    </tr>\n",
              "    <tr>\n",
              "      <th>3</th>\n",
              "      <td>4</td>\n",
              "      <td>0.591</td>\n",
              "    </tr>\n",
              "    <tr>\n",
              "      <th>4</th>\n",
              "      <td>3</td>\n",
              "      <td>0.706</td>\n",
              "    </tr>\n",
              "  </tbody>\n",
              "</table>\n",
              "</div>\n",
              "      <button class=\"colab-df-convert\" onclick=\"convertToInteractive('df-be5354ed-966a-415f-a3b5-1e0a70c9b3e2')\"\n",
              "              title=\"Convert this dataframe to an interactive table.\"\n",
              "              style=\"display:none;\">\n",
              "        \n",
              "  <svg xmlns=\"http://www.w3.org/2000/svg\" height=\"24px\"viewBox=\"0 0 24 24\"\n",
              "       width=\"24px\">\n",
              "    <path d=\"M0 0h24v24H0V0z\" fill=\"none\"/>\n",
              "    <path d=\"M18.56 5.44l.94 2.06.94-2.06 2.06-.94-2.06-.94-.94-2.06-.94 2.06-2.06.94zm-11 1L8.5 8.5l.94-2.06 2.06-.94-2.06-.94L8.5 2.5l-.94 2.06-2.06.94zm10 10l.94 2.06.94-2.06 2.06-.94-2.06-.94-.94-2.06-.94 2.06-2.06.94z\"/><path d=\"M17.41 7.96l-1.37-1.37c-.4-.4-.92-.59-1.43-.59-.52 0-1.04.2-1.43.59L10.3 9.45l-7.72 7.72c-.78.78-.78 2.05 0 2.83L4 21.41c.39.39.9.59 1.41.59.51 0 1.02-.2 1.41-.59l7.78-7.78 2.81-2.81c.8-.78.8-2.07 0-2.86zM5.41 20L4 18.59l7.72-7.72 1.47 1.35L5.41 20z\"/>\n",
              "  </svg>\n",
              "      </button>\n",
              "      \n",
              "  <style>\n",
              "    .colab-df-container {\n",
              "      display:flex;\n",
              "      flex-wrap:wrap;\n",
              "      gap: 12px;\n",
              "    }\n",
              "\n",
              "    .colab-df-convert {\n",
              "      background-color: #E8F0FE;\n",
              "      border: none;\n",
              "      border-radius: 50%;\n",
              "      cursor: pointer;\n",
              "      display: none;\n",
              "      fill: #1967D2;\n",
              "      height: 32px;\n",
              "      padding: 0 0 0 0;\n",
              "      width: 32px;\n",
              "    }\n",
              "\n",
              "    .colab-df-convert:hover {\n",
              "      background-color: #E2EBFA;\n",
              "      box-shadow: 0px 1px 2px rgba(60, 64, 67, 0.3), 0px 1px 3px 1px rgba(60, 64, 67, 0.15);\n",
              "      fill: #174EA6;\n",
              "    }\n",
              "\n",
              "    [theme=dark] .colab-df-convert {\n",
              "      background-color: #3B4455;\n",
              "      fill: #D2E3FC;\n",
              "    }\n",
              "\n",
              "    [theme=dark] .colab-df-convert:hover {\n",
              "      background-color: #434B5C;\n",
              "      box-shadow: 0px 1px 3px 1px rgba(0, 0, 0, 0.15);\n",
              "      filter: drop-shadow(0px 1px 2px rgba(0, 0, 0, 0.3));\n",
              "      fill: #FFFFFF;\n",
              "    }\n",
              "  </style>\n",
              "\n",
              "      <script>\n",
              "        const buttonEl =\n",
              "          document.querySelector('#df-be5354ed-966a-415f-a3b5-1e0a70c9b3e2 button.colab-df-convert');\n",
              "        buttonEl.style.display =\n",
              "          google.colab.kernel.accessAllowed ? 'block' : 'none';\n",
              "\n",
              "        async function convertToInteractive(key) {\n",
              "          const element = document.querySelector('#df-be5354ed-966a-415f-a3b5-1e0a70c9b3e2');\n",
              "          const dataTable =\n",
              "            await google.colab.kernel.invokeFunction('convertToInteractive',\n",
              "                                                     [key], {});\n",
              "          if (!dataTable) return;\n",
              "\n",
              "          const docLinkHtml = 'Like what you see? Visit the ' +\n",
              "            '<a target=\"_blank\" href=https://colab.research.google.com/notebooks/data_table.ipynb>data table notebook</a>'\n",
              "            + ' to learn more about interactive tables.';\n",
              "          element.innerHTML = '';\n",
              "          dataTable['output_type'] = 'display_data';\n",
              "          await google.colab.output.renderOutput(dataTable, element);\n",
              "          const docLink = document.createElement('div');\n",
              "          docLink.innerHTML = docLinkHtml;\n",
              "          element.appendChild(docLink);\n",
              "        }\n",
              "      </script>\n",
              "    </div>\n",
              "  </div>\n",
              "  "
            ]
          },
          "metadata": {},
          "execution_count": 27
        }
      ]
    },
    {
      "cell_type": "code",
      "source": [
        "recom_item_df.reset_index().drop('index', axis = 1)"
      ],
      "metadata": {
        "execution": {
          "iopub.status.busy": "2022-09-07T11:22:02.290535Z",
          "iopub.execute_input": "2022-09-07T11:22:02.290995Z",
          "iopub.status.idle": "2022-09-07T11:22:02.306465Z",
          "shell.execute_reply.started": "2022-09-07T11:22:02.290959Z",
          "shell.execute_reply": "2022-09-07T11:22:02.305524Z"
        },
        "trusted": true,
        "colab": {
          "base_uri": "https://localhost:8080/",
          "height": 175
        },
        "id": "ISGn3kYyszEC",
        "outputId": "00761629-b158-4a7e-97d3-74bf0c62e12e"
      },
      "execution_count": 28,
      "outputs": [
        {
          "output_type": "execute_result",
          "data": {
            "text/plain": [
              "  Article  Distance\n",
              "0       1     0.353\n",
              "1       2     0.591\n",
              "2       4     0.591\n",
              "3       3     0.706"
            ],
            "text/html": [
              "\n",
              "  <div id=\"df-bf1eae34-3fd9-4a48-9b4b-d7aee9881841\">\n",
              "    <div class=\"colab-df-container\">\n",
              "      <div>\n",
              "<style scoped>\n",
              "    .dataframe tbody tr th:only-of-type {\n",
              "        vertical-align: middle;\n",
              "    }\n",
              "\n",
              "    .dataframe tbody tr th {\n",
              "        vertical-align: top;\n",
              "    }\n",
              "\n",
              "    .dataframe thead th {\n",
              "        text-align: right;\n",
              "    }\n",
              "</style>\n",
              "<table border=\"1\" class=\"dataframe\">\n",
              "  <thead>\n",
              "    <tr style=\"text-align: right;\">\n",
              "      <th></th>\n",
              "      <th>Article</th>\n",
              "      <th>Distance</th>\n",
              "    </tr>\n",
              "  </thead>\n",
              "  <tbody>\n",
              "    <tr>\n",
              "      <th>0</th>\n",
              "      <td>1</td>\n",
              "      <td>0.353</td>\n",
              "    </tr>\n",
              "    <tr>\n",
              "      <th>1</th>\n",
              "      <td>2</td>\n",
              "      <td>0.591</td>\n",
              "    </tr>\n",
              "    <tr>\n",
              "      <th>2</th>\n",
              "      <td>4</td>\n",
              "      <td>0.591</td>\n",
              "    </tr>\n",
              "    <tr>\n",
              "      <th>3</th>\n",
              "      <td>3</td>\n",
              "      <td>0.706</td>\n",
              "    </tr>\n",
              "  </tbody>\n",
              "</table>\n",
              "</div>\n",
              "      <button class=\"colab-df-convert\" onclick=\"convertToInteractive('df-bf1eae34-3fd9-4a48-9b4b-d7aee9881841')\"\n",
              "              title=\"Convert this dataframe to an interactive table.\"\n",
              "              style=\"display:none;\">\n",
              "        \n",
              "  <svg xmlns=\"http://www.w3.org/2000/svg\" height=\"24px\"viewBox=\"0 0 24 24\"\n",
              "       width=\"24px\">\n",
              "    <path d=\"M0 0h24v24H0V0z\" fill=\"none\"/>\n",
              "    <path d=\"M18.56 5.44l.94 2.06.94-2.06 2.06-.94-2.06-.94-.94-2.06-.94 2.06-2.06.94zm-11 1L8.5 8.5l.94-2.06 2.06-.94-2.06-.94L8.5 2.5l-.94 2.06-2.06.94zm10 10l.94 2.06.94-2.06 2.06-.94-2.06-.94-.94-2.06-.94 2.06-2.06.94z\"/><path d=\"M17.41 7.96l-1.37-1.37c-.4-.4-.92-.59-1.43-.59-.52 0-1.04.2-1.43.59L10.3 9.45l-7.72 7.72c-.78.78-.78 2.05 0 2.83L4 21.41c.39.39.9.59 1.41.59.51 0 1.02-.2 1.41-.59l7.78-7.78 2.81-2.81c.8-.78.8-2.07 0-2.86zM5.41 20L4 18.59l7.72-7.72 1.47 1.35L5.41 20z\"/>\n",
              "  </svg>\n",
              "      </button>\n",
              "      \n",
              "  <style>\n",
              "    .colab-df-container {\n",
              "      display:flex;\n",
              "      flex-wrap:wrap;\n",
              "      gap: 12px;\n",
              "    }\n",
              "\n",
              "    .colab-df-convert {\n",
              "      background-color: #E8F0FE;\n",
              "      border: none;\n",
              "      border-radius: 50%;\n",
              "      cursor: pointer;\n",
              "      display: none;\n",
              "      fill: #1967D2;\n",
              "      height: 32px;\n",
              "      padding: 0 0 0 0;\n",
              "      width: 32px;\n",
              "    }\n",
              "\n",
              "    .colab-df-convert:hover {\n",
              "      background-color: #E2EBFA;\n",
              "      box-shadow: 0px 1px 2px rgba(60, 64, 67, 0.3), 0px 1px 3px 1px rgba(60, 64, 67, 0.15);\n",
              "      fill: #174EA6;\n",
              "    }\n",
              "\n",
              "    [theme=dark] .colab-df-convert {\n",
              "      background-color: #3B4455;\n",
              "      fill: #D2E3FC;\n",
              "    }\n",
              "\n",
              "    [theme=dark] .colab-df-convert:hover {\n",
              "      background-color: #434B5C;\n",
              "      box-shadow: 0px 1px 3px 1px rgba(0, 0, 0, 0.15);\n",
              "      filter: drop-shadow(0px 1px 2px rgba(0, 0, 0, 0.3));\n",
              "      fill: #FFFFFF;\n",
              "    }\n",
              "  </style>\n",
              "\n",
              "      <script>\n",
              "        const buttonEl =\n",
              "          document.querySelector('#df-bf1eae34-3fd9-4a48-9b4b-d7aee9881841 button.colab-df-convert');\n",
              "        buttonEl.style.display =\n",
              "          google.colab.kernel.accessAllowed ? 'block' : 'none';\n",
              "\n",
              "        async function convertToInteractive(key) {\n",
              "          const element = document.querySelector('#df-bf1eae34-3fd9-4a48-9b4b-d7aee9881841');\n",
              "          const dataTable =\n",
              "            await google.colab.kernel.invokeFunction('convertToInteractive',\n",
              "                                                     [key], {});\n",
              "          if (!dataTable) return;\n",
              "\n",
              "          const docLinkHtml = 'Like what you see? Visit the ' +\n",
              "            '<a target=\"_blank\" href=https://colab.research.google.com/notebooks/data_table.ipynb>data table notebook</a>'\n",
              "            + ' to learn more about interactive tables.';\n",
              "          element.innerHTML = '';\n",
              "          dataTable['output_type'] = 'display_data';\n",
              "          await google.colab.output.renderOutput(dataTable, element);\n",
              "          const docLink = document.createElement('div');\n",
              "          docLink.innerHTML = docLinkHtml;\n",
              "          element.appendChild(docLink);\n",
              "        }\n",
              "      </script>\n",
              "    </div>\n",
              "  </div>\n",
              "  "
            ]
          },
          "metadata": {},
          "execution_count": 28
        }
      ]
    },
    {
      "cell_type": "code",
      "source": [
        "fig, axes = plt.subplots(1, len(recom_item_df))\n",
        "\n",
        "for i, row in recom_item_df.iterrows():\n",
        "    article = row[0]\n",
        "    path = item_df[item_df['article'] == article]['image'].item()\n",
        "    img = Image.open(path).convert('RGB')\n",
        "    axes[i-1].imshow(img)\n",
        "    axes[i-1].set_title('article : {article}; '.format(article = article) + ' dist : {dist}'.format(dist = round(row[1], 3)))\n",
        "\n",
        "for ax in axes:\n",
        "    ax.set_xticks([])\n",
        "    ax.set_yticks([])\n",
        "\n",
        "fig.set_figwidth(12)\n",
        "fig.set_figheight(6)\n",
        "\n",
        "plt.show()\n",
        "    "
      ],
      "metadata": {
        "execution": {
          "iopub.status.busy": "2022-09-07T11:22:02.307762Z",
          "iopub.execute_input": "2022-09-07T11:22:02.308920Z",
          "iopub.status.idle": "2022-09-07T11:22:03.797990Z",
          "shell.execute_reply.started": "2022-09-07T11:22:02.308884Z",
          "shell.execute_reply": "2022-09-07T11:22:03.797109Z"
        },
        "trusted": true,
        "colab": {
          "base_uri": "https://localhost:8080/",
          "height": 261
        },
        "id": "LOyK6WSHszEC",
        "outputId": "0e222169-41b6-4e26-e19e-50a9b30c3b03"
      },
      "execution_count": 29,
      "outputs": [
        {
          "output_type": "display_data",
          "data": {
            "text/plain": [
              "<Figure size 864x432 with 4 Axes>"
            ],
            "image/png": "[encoded data removed]"
          },
          "metadata": {}
        }
      ]
    }
  ]
}